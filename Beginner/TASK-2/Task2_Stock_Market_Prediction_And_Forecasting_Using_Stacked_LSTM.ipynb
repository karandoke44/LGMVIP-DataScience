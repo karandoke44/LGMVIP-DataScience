{
 "cells": [
  {
   "cell_type": "markdown",
   "id": "942a56aa",
   "metadata": {},
   "source": [
    "# LGMVIP - Data Science Intern, April-2022"
   ]
  },
  {
   "cell_type": "markdown",
   "id": "842e0de7",
   "metadata": {},
   "source": [
    "### AUTHOR - Karan Doke"
   ]
  },
  {
   "cell_type": "markdown",
   "id": "assisted-component",
   "metadata": {},
   "source": [
    "### BEGINNER LEVEL TASK"
   ]
  },
  {
   "cell_type": "markdown",
   "id": "miniature-valuation",
   "metadata": {},
   "source": [
    "## Task 2- Stock Market Prediction and Forecasting using Stacked LSTM"
   ]
  },
  {
   "cell_type": "markdown",
   "id": "a4bdf9fc",
   "metadata": {},
   "source": [
    "Dataset Link: https://raw.githubusercontent.com/mwitiderrick/stockprice/master/NSE-TATAGLOBAL.csv"
   ]
  },
  {
   "cell_type": "markdown",
   "id": "a0551c6b",
   "metadata": {},
   "source": [
    "##### Importing Libraries"
   ]
  },
  {
   "cell_type": "code",
   "execution_count": 43,
   "id": "a09ac80d",
   "metadata": {},
   "outputs": [],
   "source": [
    "import pandas as pd\n",
    "import numpy as np\n",
    "import matplotlib.pyplot as plt\n",
    "import seaborn as sns\n",
    "import math\n",
    "import tensorflow as tf\n",
    "import datetime\n",
    "from sklearn.preprocessing import MinMaxScaler\n",
    "from sklearn.metrics import mean_squared_error\n",
    "from tensorflow.keras.models import Sequential\n",
    "from tensorflow.keras.layers import Dense , LSTM\n",
    "from sklearn.metrics import mean_squared_error\n",
    "%matplotlib inline"
   ]
  },
  {
   "cell_type": "markdown",
   "id": "79300f68",
   "metadata": {},
   "source": [
    "Load the Data"
   ]
  },
  {
   "cell_type": "code",
   "execution_count": 44,
   "id": "b2312429",
   "metadata": {},
   "outputs": [],
   "source": [
    "df = pd.read_csv('https://raw.githubusercontent.com/mwitiderrick/stockprice/master/NSE-TATAGLOBAL.csv')"
   ]
  },
  {
   "cell_type": "code",
   "execution_count": 45,
   "id": "2541d756",
   "metadata": {
    "scrolled": true
   },
   "outputs": [
    {
     "data": {
      "text/html": [
       "<div>\n",
       "<style scoped>\n",
       "    .dataframe tbody tr th:only-of-type {\n",
       "        vertical-align: middle;\n",
       "    }\n",
       "\n",
       "    .dataframe tbody tr th {\n",
       "        vertical-align: top;\n",
       "    }\n",
       "\n",
       "    .dataframe thead th {\n",
       "        text-align: right;\n",
       "    }\n",
       "</style>\n",
       "<table border=\"1\" class=\"dataframe\">\n",
       "  <thead>\n",
       "    <tr style=\"text-align: right;\">\n",
       "      <th></th>\n",
       "      <th>Date</th>\n",
       "      <th>Open</th>\n",
       "      <th>High</th>\n",
       "      <th>Low</th>\n",
       "      <th>Last</th>\n",
       "      <th>Close</th>\n",
       "      <th>Total Trade Quantity</th>\n",
       "      <th>Turnover (Lacs)</th>\n",
       "    </tr>\n",
       "  </thead>\n",
       "  <tbody>\n",
       "    <tr>\n",
       "      <th>0</th>\n",
       "      <td>2018-09-28</td>\n",
       "      <td>234.05</td>\n",
       "      <td>235.95</td>\n",
       "      <td>230.20</td>\n",
       "      <td>233.50</td>\n",
       "      <td>233.75</td>\n",
       "      <td>3069914</td>\n",
       "      <td>7162.35</td>\n",
       "    </tr>\n",
       "    <tr>\n",
       "      <th>1</th>\n",
       "      <td>2018-09-27</td>\n",
       "      <td>234.55</td>\n",
       "      <td>236.80</td>\n",
       "      <td>231.10</td>\n",
       "      <td>233.80</td>\n",
       "      <td>233.25</td>\n",
       "      <td>5082859</td>\n",
       "      <td>11859.95</td>\n",
       "    </tr>\n",
       "    <tr>\n",
       "      <th>2</th>\n",
       "      <td>2018-09-26</td>\n",
       "      <td>240.00</td>\n",
       "      <td>240.00</td>\n",
       "      <td>232.50</td>\n",
       "      <td>235.00</td>\n",
       "      <td>234.25</td>\n",
       "      <td>2240909</td>\n",
       "      <td>5248.60</td>\n",
       "    </tr>\n",
       "    <tr>\n",
       "      <th>3</th>\n",
       "      <td>2018-09-25</td>\n",
       "      <td>233.30</td>\n",
       "      <td>236.75</td>\n",
       "      <td>232.00</td>\n",
       "      <td>236.25</td>\n",
       "      <td>236.10</td>\n",
       "      <td>2349368</td>\n",
       "      <td>5503.90</td>\n",
       "    </tr>\n",
       "    <tr>\n",
       "      <th>4</th>\n",
       "      <td>2018-09-24</td>\n",
       "      <td>233.55</td>\n",
       "      <td>239.20</td>\n",
       "      <td>230.75</td>\n",
       "      <td>234.00</td>\n",
       "      <td>233.30</td>\n",
       "      <td>3423509</td>\n",
       "      <td>7999.55</td>\n",
       "    </tr>\n",
       "  </tbody>\n",
       "</table>\n",
       "</div>"
      ],
      "text/plain": [
       "         Date    Open    High     Low    Last   Close  Total Trade Quantity  \\\n",
       "0  2018-09-28  234.05  235.95  230.20  233.50  233.75               3069914   \n",
       "1  2018-09-27  234.55  236.80  231.10  233.80  233.25               5082859   \n",
       "2  2018-09-26  240.00  240.00  232.50  235.00  234.25               2240909   \n",
       "3  2018-09-25  233.30  236.75  232.00  236.25  236.10               2349368   \n",
       "4  2018-09-24  233.55  239.20  230.75  234.00  233.30               3423509   \n",
       "\n",
       "   Turnover (Lacs)  \n",
       "0          7162.35  \n",
       "1         11859.95  \n",
       "2          5248.60  \n",
       "3          5503.90  \n",
       "4          7999.55  "
      ]
     },
     "execution_count": 45,
     "metadata": {},
     "output_type": "execute_result"
    }
   ],
   "source": [
    "df.head()"
   ]
  },
  {
   "cell_type": "code",
   "execution_count": 47,
   "id": "549fdf50",
   "metadata": {},
   "outputs": [
    {
     "data": {
      "text/html": [
       "<div>\n",
       "<style scoped>\n",
       "    .dataframe tbody tr th:only-of-type {\n",
       "        vertical-align: middle;\n",
       "    }\n",
       "\n",
       "    .dataframe tbody tr th {\n",
       "        vertical-align: top;\n",
       "    }\n",
       "\n",
       "    .dataframe thead th {\n",
       "        text-align: right;\n",
       "    }\n",
       "</style>\n",
       "<table border=\"1\" class=\"dataframe\">\n",
       "  <thead>\n",
       "    <tr style=\"text-align: right;\">\n",
       "      <th></th>\n",
       "      <th>Date</th>\n",
       "      <th>Open</th>\n",
       "      <th>High</th>\n",
       "      <th>Low</th>\n",
       "      <th>Last</th>\n",
       "      <th>Close</th>\n",
       "      <th>Total Trade Quantity</th>\n",
       "      <th>Turnover (Lacs)</th>\n",
       "    </tr>\n",
       "  </thead>\n",
       "  <tbody>\n",
       "    <tr>\n",
       "      <th>2030</th>\n",
       "      <td>2010-07-27</td>\n",
       "      <td>117.6</td>\n",
       "      <td>119.50</td>\n",
       "      <td>112.00</td>\n",
       "      <td>118.80</td>\n",
       "      <td>118.65</td>\n",
       "      <td>586100</td>\n",
       "      <td>694.98</td>\n",
       "    </tr>\n",
       "    <tr>\n",
       "      <th>2031</th>\n",
       "      <td>2010-07-26</td>\n",
       "      <td>120.1</td>\n",
       "      <td>121.00</td>\n",
       "      <td>117.10</td>\n",
       "      <td>117.10</td>\n",
       "      <td>117.60</td>\n",
       "      <td>658440</td>\n",
       "      <td>780.01</td>\n",
       "    </tr>\n",
       "    <tr>\n",
       "      <th>2032</th>\n",
       "      <td>2010-07-23</td>\n",
       "      <td>121.8</td>\n",
       "      <td>121.95</td>\n",
       "      <td>120.25</td>\n",
       "      <td>120.35</td>\n",
       "      <td>120.65</td>\n",
       "      <td>281312</td>\n",
       "      <td>340.31</td>\n",
       "    </tr>\n",
       "    <tr>\n",
       "      <th>2033</th>\n",
       "      <td>2010-07-22</td>\n",
       "      <td>120.3</td>\n",
       "      <td>122.00</td>\n",
       "      <td>120.25</td>\n",
       "      <td>120.75</td>\n",
       "      <td>120.90</td>\n",
       "      <td>293312</td>\n",
       "      <td>355.17</td>\n",
       "    </tr>\n",
       "    <tr>\n",
       "      <th>2034</th>\n",
       "      <td>2010-07-21</td>\n",
       "      <td>122.1</td>\n",
       "      <td>123.00</td>\n",
       "      <td>121.05</td>\n",
       "      <td>121.10</td>\n",
       "      <td>121.55</td>\n",
       "      <td>658666</td>\n",
       "      <td>803.56</td>\n",
       "    </tr>\n",
       "  </tbody>\n",
       "</table>\n",
       "</div>"
      ],
      "text/plain": [
       "            Date   Open    High     Low    Last   Close  Total Trade Quantity  \\\n",
       "2030  2010-07-27  117.6  119.50  112.00  118.80  118.65                586100   \n",
       "2031  2010-07-26  120.1  121.00  117.10  117.10  117.60                658440   \n",
       "2032  2010-07-23  121.8  121.95  120.25  120.35  120.65                281312   \n",
       "2033  2010-07-22  120.3  122.00  120.25  120.75  120.90                293312   \n",
       "2034  2010-07-21  122.1  123.00  121.05  121.10  121.55                658666   \n",
       "\n",
       "      Turnover (Lacs)  \n",
       "2030           694.98  \n",
       "2031           780.01  \n",
       "2032           340.31  \n",
       "2033           355.17  \n",
       "2034           803.56  "
      ]
     },
     "execution_count": 47,
     "metadata": {},
     "output_type": "execute_result"
    }
   ],
   "source": [
    "df.tail()"
   ]
  },
  {
   "cell_type": "code",
   "execution_count": 48,
   "id": "specialized-tomato",
   "metadata": {},
   "outputs": [
    {
     "data": {
      "text/plain": [
       "(2035, 8)"
      ]
     },
     "execution_count": 48,
     "metadata": {},
     "output_type": "execute_result"
    }
   ],
   "source": [
    "df.shape"
   ]
  },
  {
   "cell_type": "code",
   "execution_count": 50,
   "id": "innovative-mixture",
   "metadata": {},
   "outputs": [
    {
     "name": "stdout",
     "output_type": "stream",
     "text": [
      "<class 'pandas.core.frame.DataFrame'>\n",
      "RangeIndex: 2035 entries, 0 to 2034\n",
      "Data columns (total 8 columns):\n",
      " #   Column                Non-Null Count  Dtype  \n",
      "---  ------                --------------  -----  \n",
      " 0   Date                  2035 non-null   object \n",
      " 1   Open                  2035 non-null   float64\n",
      " 2   High                  2035 non-null   float64\n",
      " 3   Low                   2035 non-null   float64\n",
      " 4   Last                  2035 non-null   float64\n",
      " 5   Close                 2035 non-null   float64\n",
      " 6   Total Trade Quantity  2035 non-null   int64  \n",
      " 7   Turnover (Lacs)       2035 non-null   float64\n",
      "dtypes: float64(6), int64(1), object(1)\n",
      "memory usage: 127.3+ KB\n"
     ]
    }
   ],
   "source": [
    "df.info()"
   ]
  },
  {
   "cell_type": "code",
   "execution_count": 51,
   "id": "c1cb2616",
   "metadata": {},
   "outputs": [
    {
     "data": {
      "text/plain": [
       "index                   0\n",
       "Date                    0\n",
       "Open                    0\n",
       "High                    0\n",
       "Low                     0\n",
       "Last                    0\n",
       "Close                   0\n",
       "Total Trade Quantity    0\n",
       "Turnover (Lacs)         0\n",
       "dtype: int64"
      ]
     },
     "execution_count": 51,
     "metadata": {},
     "output_type": "execute_result"
    }
   ],
   "source": [
    "data.isnull().sum()"
   ]
  },
  {
   "cell_type": "code",
   "execution_count": 52,
   "id": "f8b55f1e",
   "metadata": {
    "scrolled": true
   },
   "outputs": [
    {
     "data": {
      "text/html": [
       "<div>\n",
       "<style scoped>\n",
       "    .dataframe tbody tr th:only-of-type {\n",
       "        vertical-align: middle;\n",
       "    }\n",
       "\n",
       "    .dataframe tbody tr th {\n",
       "        vertical-align: top;\n",
       "    }\n",
       "\n",
       "    .dataframe thead th {\n",
       "        text-align: right;\n",
       "    }\n",
       "</style>\n",
       "<table border=\"1\" class=\"dataframe\">\n",
       "  <thead>\n",
       "    <tr style=\"text-align: right;\">\n",
       "      <th></th>\n",
       "      <th>index</th>\n",
       "      <th>Open</th>\n",
       "      <th>High</th>\n",
       "      <th>Low</th>\n",
       "      <th>Last</th>\n",
       "      <th>Close</th>\n",
       "      <th>Total Trade Quantity</th>\n",
       "      <th>Turnover (Lacs)</th>\n",
       "    </tr>\n",
       "  </thead>\n",
       "  <tbody>\n",
       "    <tr>\n",
       "      <th>count</th>\n",
       "      <td>2035.000000</td>\n",
       "      <td>2035.000000</td>\n",
       "      <td>2035.000000</td>\n",
       "      <td>2035.000000</td>\n",
       "      <td>2035.000000</td>\n",
       "      <td>2035.00000</td>\n",
       "      <td>2.035000e+03</td>\n",
       "      <td>2035.000000</td>\n",
       "    </tr>\n",
       "    <tr>\n",
       "      <th>mean</th>\n",
       "      <td>1017.000000</td>\n",
       "      <td>149.713735</td>\n",
       "      <td>151.992826</td>\n",
       "      <td>147.293931</td>\n",
       "      <td>149.474251</td>\n",
       "      <td>149.45027</td>\n",
       "      <td>2.335681e+06</td>\n",
       "      <td>3899.980565</td>\n",
       "    </tr>\n",
       "    <tr>\n",
       "      <th>std</th>\n",
       "      <td>587.598219</td>\n",
       "      <td>48.664509</td>\n",
       "      <td>49.413109</td>\n",
       "      <td>47.931958</td>\n",
       "      <td>48.732570</td>\n",
       "      <td>48.71204</td>\n",
       "      <td>2.091778e+06</td>\n",
       "      <td>4570.767877</td>\n",
       "    </tr>\n",
       "    <tr>\n",
       "      <th>min</th>\n",
       "      <td>0.000000</td>\n",
       "      <td>81.100000</td>\n",
       "      <td>82.800000</td>\n",
       "      <td>80.000000</td>\n",
       "      <td>81.000000</td>\n",
       "      <td>80.95000</td>\n",
       "      <td>3.961000e+04</td>\n",
       "      <td>37.040000</td>\n",
       "    </tr>\n",
       "    <tr>\n",
       "      <th>25%</th>\n",
       "      <td>508.500000</td>\n",
       "      <td>120.025000</td>\n",
       "      <td>122.100000</td>\n",
       "      <td>118.300000</td>\n",
       "      <td>120.075000</td>\n",
       "      <td>120.05000</td>\n",
       "      <td>1.146444e+06</td>\n",
       "      <td>1427.460000</td>\n",
       "    </tr>\n",
       "    <tr>\n",
       "      <th>50%</th>\n",
       "      <td>1017.000000</td>\n",
       "      <td>141.500000</td>\n",
       "      <td>143.400000</td>\n",
       "      <td>139.600000</td>\n",
       "      <td>141.100000</td>\n",
       "      <td>141.25000</td>\n",
       "      <td>1.783456e+06</td>\n",
       "      <td>2512.030000</td>\n",
       "    </tr>\n",
       "    <tr>\n",
       "      <th>75%</th>\n",
       "      <td>1525.500000</td>\n",
       "      <td>157.175000</td>\n",
       "      <td>159.400000</td>\n",
       "      <td>155.150000</td>\n",
       "      <td>156.925000</td>\n",
       "      <td>156.90000</td>\n",
       "      <td>2.813594e+06</td>\n",
       "      <td>4539.015000</td>\n",
       "    </tr>\n",
       "    <tr>\n",
       "      <th>max</th>\n",
       "      <td>2034.000000</td>\n",
       "      <td>327.700000</td>\n",
       "      <td>328.750000</td>\n",
       "      <td>321.650000</td>\n",
       "      <td>325.950000</td>\n",
       "      <td>325.75000</td>\n",
       "      <td>2.919102e+07</td>\n",
       "      <td>55755.080000</td>\n",
       "    </tr>\n",
       "  </tbody>\n",
       "</table>\n",
       "</div>"
      ],
      "text/plain": [
       "             index         Open         High          Low         Last  \\\n",
       "count  2035.000000  2035.000000  2035.000000  2035.000000  2035.000000   \n",
       "mean   1017.000000   149.713735   151.992826   147.293931   149.474251   \n",
       "std     587.598219    48.664509    49.413109    47.931958    48.732570   \n",
       "min       0.000000    81.100000    82.800000    80.000000    81.000000   \n",
       "25%     508.500000   120.025000   122.100000   118.300000   120.075000   \n",
       "50%    1017.000000   141.500000   143.400000   139.600000   141.100000   \n",
       "75%    1525.500000   157.175000   159.400000   155.150000   156.925000   \n",
       "max    2034.000000   327.700000   328.750000   321.650000   325.950000   \n",
       "\n",
       "            Close  Total Trade Quantity  Turnover (Lacs)  \n",
       "count  2035.00000          2.035000e+03      2035.000000  \n",
       "mean    149.45027          2.335681e+06      3899.980565  \n",
       "std      48.71204          2.091778e+06      4570.767877  \n",
       "min      80.95000          3.961000e+04        37.040000  \n",
       "25%     120.05000          1.146444e+06      1427.460000  \n",
       "50%     141.25000          1.783456e+06      2512.030000  \n",
       "75%     156.90000          2.813594e+06      4539.015000  \n",
       "max     325.75000          2.919102e+07     55755.080000  "
      ]
     },
     "execution_count": 52,
     "metadata": {},
     "output_type": "execute_result"
    }
   ],
   "source": [
    "data.describe()"
   ]
  },
  {
   "cell_type": "code",
   "execution_count": 53,
   "id": "d097d038",
   "metadata": {},
   "outputs": [
    {
     "data": {
      "text/html": [
       "<div>\n",
       "<style scoped>\n",
       "    .dataframe tbody tr th:only-of-type {\n",
       "        vertical-align: middle;\n",
       "    }\n",
       "\n",
       "    .dataframe tbody tr th {\n",
       "        vertical-align: top;\n",
       "    }\n",
       "\n",
       "    .dataframe thead th {\n",
       "        text-align: right;\n",
       "    }\n",
       "</style>\n",
       "<table border=\"1\" class=\"dataframe\">\n",
       "  <thead>\n",
       "    <tr style=\"text-align: right;\">\n",
       "      <th></th>\n",
       "      <th>Date</th>\n",
       "      <th>Open</th>\n",
       "      <th>High</th>\n",
       "      <th>Low</th>\n",
       "      <th>Last</th>\n",
       "      <th>Close</th>\n",
       "      <th>Total Trade Quantity</th>\n",
       "      <th>Turnover (Lacs)</th>\n",
       "    </tr>\n",
       "  </thead>\n",
       "  <tbody>\n",
       "    <tr>\n",
       "      <th>2034</th>\n",
       "      <td>2010-07-21</td>\n",
       "      <td>122.1</td>\n",
       "      <td>123.00</td>\n",
       "      <td>121.05</td>\n",
       "      <td>121.10</td>\n",
       "      <td>121.55</td>\n",
       "      <td>658666</td>\n",
       "      <td>803.56</td>\n",
       "    </tr>\n",
       "    <tr>\n",
       "      <th>2033</th>\n",
       "      <td>2010-07-22</td>\n",
       "      <td>120.3</td>\n",
       "      <td>122.00</td>\n",
       "      <td>120.25</td>\n",
       "      <td>120.75</td>\n",
       "      <td>120.90</td>\n",
       "      <td>293312</td>\n",
       "      <td>355.17</td>\n",
       "    </tr>\n",
       "    <tr>\n",
       "      <th>2032</th>\n",
       "      <td>2010-07-23</td>\n",
       "      <td>121.8</td>\n",
       "      <td>121.95</td>\n",
       "      <td>120.25</td>\n",
       "      <td>120.35</td>\n",
       "      <td>120.65</td>\n",
       "      <td>281312</td>\n",
       "      <td>340.31</td>\n",
       "    </tr>\n",
       "    <tr>\n",
       "      <th>2031</th>\n",
       "      <td>2010-07-26</td>\n",
       "      <td>120.1</td>\n",
       "      <td>121.00</td>\n",
       "      <td>117.10</td>\n",
       "      <td>117.10</td>\n",
       "      <td>117.60</td>\n",
       "      <td>658440</td>\n",
       "      <td>780.01</td>\n",
       "    </tr>\n",
       "    <tr>\n",
       "      <th>2030</th>\n",
       "      <td>2010-07-27</td>\n",
       "      <td>117.6</td>\n",
       "      <td>119.50</td>\n",
       "      <td>112.00</td>\n",
       "      <td>118.80</td>\n",
       "      <td>118.65</td>\n",
       "      <td>586100</td>\n",
       "      <td>694.98</td>\n",
       "    </tr>\n",
       "  </tbody>\n",
       "</table>\n",
       "</div>"
      ],
      "text/plain": [
       "            Date   Open    High     Low    Last   Close  Total Trade Quantity  \\\n",
       "2034  2010-07-21  122.1  123.00  121.05  121.10  121.55                658666   \n",
       "2033  2010-07-22  120.3  122.00  120.25  120.75  120.90                293312   \n",
       "2032  2010-07-23  121.8  121.95  120.25  120.35  120.65                281312   \n",
       "2031  2010-07-26  120.1  121.00  117.10  117.10  117.60                658440   \n",
       "2030  2010-07-27  117.6  119.50  112.00  118.80  118.65                586100   \n",
       "\n",
       "      Turnover (Lacs)  \n",
       "2034           803.56  \n",
       "2033           355.17  \n",
       "2032           340.31  \n",
       "2031           780.01  \n",
       "2030           694.98  "
      ]
     },
     "execution_count": 53,
     "metadata": {},
     "output_type": "execute_result"
    }
   ],
   "source": [
    "df = df.sort_values('Date')\n",
    "df.head()"
   ]
  },
  {
   "cell_type": "code",
   "execution_count": 54,
   "id": "40d1fb0c",
   "metadata": {},
   "outputs": [],
   "source": [
    "df.reset_index(inplace=True)"
   ]
  },
  {
   "cell_type": "code",
   "execution_count": 55,
   "id": "located-pantyhose",
   "metadata": {},
   "outputs": [
    {
     "data": {
      "image/png": "[encoded data removed]",
      "text/plain": [
       "<Figure size 1152x504 with 1 Axes>"
      ]
     },
     "metadata": {
      "needs_background": "light"
     },
     "output_type": "display_data"
    }
   ],
   "source": [
    "plt.figure(figsize=(10,6))\n",
    "df['Close'].plot(kind='line',figsize=(16,7),color='b',label=\"Closing Price\")\n",
    "plt.ylabel(\"Price\")\n",
    "plt.legend(loc=\"upper right\")\n",
    "plt.title(\"Change in closing price over the years\")\n",
    "plt.grid()"
   ]
  },
  {
   "cell_type": "code",
   "execution_count": 56,
   "id": "artistic-deadline",
   "metadata": {},
   "outputs": [
    {
     "data": {
      "image/png": "[encoded data removed]",
      "text/plain": [
       "<Figure size 1152x504 with 1 Axes>"
      ]
     },
     "metadata": {
      "needs_background": "light"
     },
     "output_type": "display_data"
    }
   ],
   "source": [
    "plt.figure(figsize=(10,6))\n",
    "df['Open'].plot(kind='line',figsize=(16,7),color='g',label=\"Opening Price\")\n",
    "plt.ylabel(\"Price\")\n",
    "plt.legend(loc=\"upper left\")\n",
    "plt.title(\"Change in opening price over the years\")\n",
    "plt.grid()"
   ]
  },
  {
   "cell_type": "code",
   "execution_count": 57,
   "id": "basic-metadata",
   "metadata": {},
   "outputs": [
    {
     "data": {
      "text/plain": [
       "<AxesSubplot:>"
      ]
     },
     "execution_count": 57,
     "metadata": {},
     "output_type": "execute_result"
    },
    {
     "data": {
      "image/png": "[encoded data removed]",
      "text/plain": [
       "<Figure size 864x432 with 2 Axes>"
      ]
     },
     "metadata": {
      "needs_background": "light"
     },
     "output_type": "display_data"
    }
   ],
   "source": [
    "plt.figure(figsize=(12,6))\n",
    "sns.heatmap(df.corr(),annot=True,cmap='Blues')"
   ]
  },
  {
   "cell_type": "code",
   "execution_count": 58,
   "id": "architectural-morris",
   "metadata": {},
   "outputs": [
    {
     "data": {
      "text/plain": [
       "<AxesSubplot:ylabel='Turnover (Lacs)'>"
      ]
     },
     "execution_count": 58,
     "metadata": {},
     "output_type": "execute_result"
    },
    {
     "data": {
      "image/png": "[encoded data removed]",
      "text/plain": [
       "<Figure size 792x360 with 2 Axes>"
      ]
     },
     "metadata": {
      "needs_background": "light"
     },
     "output_type": "display_data"
    }
   ],
   "source": [
    "plt.figure(figsize=(11,5))\n",
    "plt.subplot(1,2,1)\n",
    "sns.boxplot(data=df,y='Total Trade Quantity',color='red')\n",
    "plt.subplot(1,2,2)\n",
    "sns.boxplot(data=df,y='Turnover (Lacs)',color='yellow')"
   ]
  },
  {
   "cell_type": "code",
   "execution_count": 59,
   "id": "romantic-affiliation",
   "metadata": {},
   "outputs": [
    {
     "data": {
      "image/png": "[encoded data removed]",
      "text/plain": [
       "<Figure size 504x432 with 1 Axes>"
      ]
     },
     "metadata": {
      "needs_background": "light"
     },
     "output_type": "display_data"
    }
   ],
   "source": [
    "fig=plt.figure(figsize=(7,6))\n",
    "plt.scatter(df['Total Trade Quantity'],df['Turnover (Lacs)'], alpha=0.5, edgecolor='y', color='cyan')\n",
    "plt.xlabel(\"Trade Quantity (in 100000)\")\n",
    "plt.ylabel(\"Turnover (in lacs)\")\n",
    "plt.title(\" Selling Units Vs Turnover\")\n",
    "plt.show()"
   ]
  },
  {
   "cell_type": "code",
   "execution_count": 60,
   "id": "cdb78325",
   "metadata": {},
   "outputs": [
    {
     "data": {
      "text/plain": [
       "0       121.55\n",
       "1       120.90\n",
       "2       120.65\n",
       "3       117.60\n",
       "4       118.65\n",
       "         ...  \n",
       "2030    233.30\n",
       "2031    236.10\n",
       "2032    234.25\n",
       "2033    233.25\n",
       "2034    233.75\n",
       "Name: Close, Length: 2035, dtype: float64"
      ]
     },
     "execution_count": 60,
     "metadata": {},
     "output_type": "execute_result"
    }
   ],
   "source": [
    "data_close = df['Close']\n",
    "data_close"
   ]
  },
  {
   "cell_type": "code",
   "execution_count": 61,
   "id": "a6df33fc",
   "metadata": {},
   "outputs": [],
   "source": [
    "data1 = df.reset_index()['Close']"
   ]
  },
  {
   "cell_type": "markdown",
   "id": "ec58824f",
   "metadata": {},
   "source": [
    "Scaling Data"
   ]
  },
  {
   "cell_type": "code",
   "execution_count": 62,
   "id": "925e5e53",
   "metadata": {},
   "outputs": [
    {
     "data": {
      "text/plain": [
       "array([[0.16584967],\n",
       "       [0.16319444],\n",
       "       [0.1621732 ],\n",
       "       ...,\n",
       "       [0.62622549],\n",
       "       [0.62214052],\n",
       "       [0.62418301]])"
      ]
     },
     "execution_count": 62,
     "metadata": {},
     "output_type": "execute_result"
    }
   ],
   "source": [
    "scaler = MinMaxScaler(feature_range=(0,1))\n",
    "data_close = scaler.fit_transform(np.array(data_close).reshape(-1,1))\n",
    "data_close"
   ]
  },
  {
   "cell_type": "markdown",
   "id": "e8bd3517",
   "metadata": {},
   "source": [
    "Split the Data into train and test"
   ]
  },
  {
   "cell_type": "code",
   "execution_count": 63,
   "id": "5dfd3009",
   "metadata": {},
   "outputs": [],
   "source": [
    "training_size = int(len(data_close)*0.70)\n",
    "test_size = len(data_close) - training_size\n",
    "train, test = data_close[0: training_size,:], data_close[training_size : len(data_close),:1]"
   ]
  },
  {
   "cell_type": "code",
   "execution_count": 64,
   "id": "6435e592",
   "metadata": {},
   "outputs": [],
   "source": [
    "def create_mat(dataset, time_step = 1):\n",
    "    dataX, dataY = [], []\n",
    "    for i in range(len(dataset)-time_step-1):\n",
    "        a = dataset[i:(i+time_step),0]\n",
    "        dataX.append(a)\n",
    "        dataY.append(dataset[i + time_step, 0])\n",
    "    return np.array(dataX), np.array(dataY)"
   ]
  },
  {
   "cell_type": "code",
   "execution_count": 65,
   "id": "27ceb4ed",
   "metadata": {},
   "outputs": [],
   "source": [
    "time_step = 100\n",
    "X_train, y_train = create_mat(train, time_step)\n",
    "X_test, y_test = create_mat(test, time_step)"
   ]
  },
  {
   "cell_type": "code",
   "execution_count": 66,
   "id": "420d40b6",
   "metadata": {},
   "outputs": [
    {
     "data": {
      "text/plain": [
       "(1323, 100)"
      ]
     },
     "execution_count": 66,
     "metadata": {},
     "output_type": "execute_result"
    }
   ],
   "source": [
    "X_train.shape"
   ]
  },
  {
   "cell_type": "code",
   "execution_count": 67,
   "id": "1d41f0a3",
   "metadata": {},
   "outputs": [
    {
     "data": {
      "text/plain": [
       "(1323,)"
      ]
     },
     "execution_count": 67,
     "metadata": {},
     "output_type": "execute_result"
    }
   ],
   "source": [
    "y_train.shape"
   ]
  },
  {
   "cell_type": "code",
   "execution_count": 68,
   "id": "c22b4afb",
   "metadata": {},
   "outputs": [],
   "source": [
    "X_train = X_train.reshape(X_train.shape[0], X_train.shape[1], 1)\n",
    "X_test = X_test.reshape(X_test.shape[0], X_test.shape[1], 1)"
   ]
  },
  {
   "cell_type": "markdown",
   "id": "78dc59c5",
   "metadata": {},
   "source": [
    "Create Stacked LSTM Model of Data"
   ]
  },
  {
   "cell_type": "code",
   "execution_count": 69,
   "id": "079f6d16",
   "metadata": {},
   "outputs": [],
   "source": [
    "from tensorflow.keras.models import Sequential\n",
    "from tensorflow.keras.layers import Dense\n",
    "from tensorflow.keras.layers import LSTM"
   ]
  },
  {
   "cell_type": "code",
   "execution_count": 70,
   "id": "c9a399fa",
   "metadata": {},
   "outputs": [
    {
     "name": "stdout",
     "output_type": "stream",
     "text": [
      "Model: \"sequential_4\"\n",
      "_________________________________________________________________\n",
      " Layer (type)                Output Shape              Param #   \n",
      "=================================================================\n",
      " lstm_12 (LSTM)              (None, 100, 50)           10400     \n",
      "                                                                 \n",
      " lstm_13 (LSTM)              (None, 100, 50)           20200     \n",
      "                                                                 \n",
      " lstm_14 (LSTM)              (None, 50)                20200     \n",
      "                                                                 \n",
      " dense_4 (Dense)             (None, 1)                 51        \n",
      "                                                                 \n",
      "=================================================================\n",
      "Total params: 50,851\n",
      "Trainable params: 50,851\n",
      "Non-trainable params: 0\n",
      "_________________________________________________________________\n"
     ]
    }
   ],
   "source": [
    "model = Sequential()\n",
    "model.add(LSTM(50,return_sequences=True,input_shape=(100,1)))\n",
    "model.add(LSTM(50,return_sequences=True))\n",
    "model.add(LSTM(50))\n",
    "model.add(Dense(1))\n",
    "model.compile(loss='mean_squared_error',optimizer='adam')\n",
    "model.summary()"
   ]
  },
  {
   "cell_type": "markdown",
   "id": "fc51e296",
   "metadata": {},
   "source": [
    "Train the Model"
   ]
  },
  {
   "cell_type": "code",
   "execution_count": 71,
   "id": "38de9e89",
   "metadata": {},
   "outputs": [
    {
     "name": "stdout",
     "output_type": "stream",
     "text": [
      "Epoch 1/80\n",
      "19/19 [==============================] - 9s 221ms/step - loss: 0.0102 - val_loss: 0.0013\n",
      "Epoch 2/80\n",
      "19/19 [==============================] - 3s 138ms/step - loss: 0.0018 - val_loss: 0.0013\n",
      "Epoch 3/80\n",
      "19/19 [==============================] - 3s 132ms/step - loss: 9.5326e-04 - val_loss: 0.0012\n",
      "Epoch 4/80\n",
      "19/19 [==============================] - 3s 136ms/step - loss: 8.4043e-04 - val_loss: 0.0011\n",
      "Epoch 5/80\n",
      "19/19 [==============================] - 3s 135ms/step - loss: 8.0930e-04 - val_loss: 0.0011\n",
      "Epoch 6/80\n",
      "19/19 [==============================] - 3s 139ms/step - loss: 7.9772e-04 - val_loss: 0.0011\n",
      "Epoch 7/80\n",
      "19/19 [==============================] - 3s 136ms/step - loss: 7.8314e-04 - val_loss: 0.0010\n",
      "Epoch 8/80\n",
      "19/19 [==============================] - 3s 136ms/step - loss: 7.6531e-04 - val_loss: 9.7838e-04\n",
      "Epoch 9/80\n",
      "19/19 [==============================] - 3s 135ms/step - loss: 7.3596e-04 - val_loss: 9.8093e-04\n",
      "Epoch 10/80\n",
      "19/19 [==============================] - 3s 139ms/step - loss: 7.1094e-04 - val_loss: 9.0751e-04\n",
      "Epoch 11/80\n",
      "19/19 [==============================] - 3s 133ms/step - loss: 6.8630e-04 - val_loss: 8.6225e-04\n",
      "Epoch 12/80\n",
      "19/19 [==============================] - 3s 140ms/step - loss: 7.0728e-04 - val_loss: 9.4771e-04\n",
      "Epoch 13/80\n",
      "19/19 [==============================] - 3s 140ms/step - loss: 6.6975e-04 - val_loss: 9.6170e-04\n",
      "Epoch 14/80\n",
      "19/19 [==============================] - 3s 147ms/step - loss: 6.5177e-04 - val_loss: 8.8414e-04\n",
      "Epoch 15/80\n",
      "19/19 [==============================] - 3s 169ms/step - loss: 6.1575e-04 - val_loss: 7.7320e-04\n",
      "Epoch 16/80\n",
      "19/19 [==============================] - 3s 164ms/step - loss: 6.0249e-04 - val_loss: 6.7215e-04\n",
      "Epoch 17/80\n",
      "19/19 [==============================] - 3s 177ms/step - loss: 5.9832e-04 - val_loss: 6.5422e-04\n",
      "Epoch 18/80\n",
      "19/19 [==============================] - 4s 188ms/step - loss: 5.7856e-04 - val_loss: 7.2303e-04\n",
      "Epoch 19/80\n",
      "19/19 [==============================] - 4s 196ms/step - loss: 5.6604e-04 - val_loss: 6.0069e-04\n",
      "Epoch 20/80\n",
      "19/19 [==============================] - 3s 176ms/step - loss: 5.5970e-04 - val_loss: 6.3589e-04\n",
      "Epoch 21/80\n",
      "19/19 [==============================] - 3s 171ms/step - loss: 5.4064e-04 - val_loss: 5.7708e-04\n",
      "Epoch 22/80\n",
      "19/19 [==============================] - 3s 182ms/step - loss: 5.6120e-04 - val_loss: 5.6226e-04\n",
      "Epoch 23/80\n",
      "19/19 [==============================] - 3s 173ms/step - loss: 5.0939e-04 - val_loss: 5.6996e-04\n",
      "Epoch 24/80\n",
      "19/19 [==============================] - 3s 182ms/step - loss: 4.9436e-04 - val_loss: 5.4432e-04\n",
      "Epoch 25/80\n",
      "19/19 [==============================] - 3s 171ms/step - loss: 5.0552e-04 - val_loss: 5.5589e-04\n",
      "Epoch 26/80\n",
      "19/19 [==============================] - 3s 177ms/step - loss: 5.0119e-04 - val_loss: 5.8188e-04\n",
      "Epoch 27/80\n",
      "19/19 [==============================] - 3s 176ms/step - loss: 4.8102e-04 - val_loss: 5.9160e-04\n",
      "Epoch 28/80\n",
      "19/19 [==============================] - 3s 183ms/step - loss: 4.6241e-04 - val_loss: 5.0147e-04\n",
      "Epoch 29/80\n",
      "19/19 [==============================] - 3s 176ms/step - loss: 4.3930e-04 - val_loss: 4.8176e-04\n",
      "Epoch 30/80\n",
      "19/19 [==============================] - 3s 176ms/step - loss: 4.3969e-04 - val_loss: 5.1617e-04\n",
      "Epoch 31/80\n",
      "19/19 [==============================] - 3s 172ms/step - loss: 4.4041e-04 - val_loss: 4.3610e-04\n",
      "Epoch 32/80\n",
      "19/19 [==============================] - 3s 170ms/step - loss: 4.4752e-04 - val_loss: 4.7260e-04\n",
      "Epoch 33/80\n",
      "19/19 [==============================] - 3s 176ms/step - loss: 4.3114e-04 - val_loss: 4.1176e-04\n",
      "Epoch 34/80\n",
      "19/19 [==============================] - 3s 176ms/step - loss: 3.9426e-04 - val_loss: 4.1323e-04\n",
      "Epoch 35/80\n",
      "19/19 [==============================] - 3s 173ms/step - loss: 4.0297e-04 - val_loss: 4.1914e-04\n",
      "Epoch 36/80\n",
      "19/19 [==============================] - 3s 174ms/step - loss: 3.7311e-04 - val_loss: 3.7161e-04\n",
      "Epoch 37/80\n",
      "19/19 [==============================] - 3s 173ms/step - loss: 3.8683e-04 - val_loss: 3.5811e-04\n",
      "Epoch 38/80\n",
      "19/19 [==============================] - 3s 171ms/step - loss: 4.0851e-04 - val_loss: 3.8871e-04\n",
      "Epoch 39/80\n",
      "19/19 [==============================] - 3s 169ms/step - loss: 3.8963e-04 - val_loss: 3.7740e-04\n",
      "Epoch 40/80\n",
      "19/19 [==============================] - 3s 175ms/step - loss: 4.0846e-04 - val_loss: 5.4014e-04\n",
      "Epoch 41/80\n",
      "19/19 [==============================] - 3s 174ms/step - loss: 3.9801e-04 - val_loss: 3.2350e-04\n",
      "Epoch 42/80\n",
      "19/19 [==============================] - 3s 176ms/step - loss: 3.3942e-04 - val_loss: 3.3308e-04\n",
      "Epoch 43/80\n",
      "19/19 [==============================] - 3s 175ms/step - loss: 3.4414e-04 - val_loss: 2.9746e-04\n",
      "Epoch 44/80\n",
      "19/19 [==============================] - 3s 175ms/step - loss: 3.2152e-04 - val_loss: 2.8470e-04\n",
      "Epoch 45/80\n",
      "19/19 [==============================] - 3s 175ms/step - loss: 3.2693e-04 - val_loss: 3.9980e-04\n",
      "Epoch 46/80\n",
      "19/19 [==============================] - 3s 175ms/step - loss: 3.1716e-04 - val_loss: 2.7643e-04\n",
      "Epoch 47/80\n",
      "19/19 [==============================] - 3s 173ms/step - loss: 3.2330e-04 - val_loss: 3.4553e-04\n",
      "Epoch 48/80\n",
      "19/19 [==============================] - 3s 171ms/step - loss: 3.0328e-04 - val_loss: 2.8942e-04\n",
      "Epoch 49/80\n",
      "19/19 [==============================] - 3s 176ms/step - loss: 2.7747e-04 - val_loss: 2.5622e-04\n",
      "Epoch 50/80\n",
      "19/19 [==============================] - 3s 175ms/step - loss: 2.7406e-04 - val_loss: 2.5803e-04\n",
      "Epoch 51/80\n",
      "19/19 [==============================] - 3s 177ms/step - loss: 2.9616e-04 - val_loss: 2.4502e-04\n",
      "Epoch 52/80\n",
      "19/19 [==============================] - 3s 170ms/step - loss: 2.7089e-04 - val_loss: 2.3301e-04\n",
      "Epoch 53/80\n",
      "19/19 [==============================] - 3s 174ms/step - loss: 2.4771e-04 - val_loss: 2.5795e-04\n",
      "Epoch 54/80\n",
      "19/19 [==============================] - 3s 169ms/step - loss: 2.6564e-04 - val_loss: 2.1205e-04\n",
      "Epoch 55/80\n",
      "19/19 [==============================] - 3s 171ms/step - loss: 2.6018e-04 - val_loss: 2.3617e-04\n",
      "Epoch 56/80\n",
      "19/19 [==============================] - 3s 169ms/step - loss: 2.5357e-04 - val_loss: 2.0647e-04\n",
      "Epoch 57/80\n",
      "19/19 [==============================] - 3s 178ms/step - loss: 2.2824e-04 - val_loss: 2.4459e-04\n",
      "Epoch 58/80\n",
      "19/19 [==============================] - 3s 173ms/step - loss: 2.2376e-04 - val_loss: 1.9520e-04\n",
      "Epoch 59/80\n",
      "19/19 [==============================] - 3s 173ms/step - loss: 2.2657e-04 - val_loss: 1.8375e-04\n",
      "Epoch 60/80\n",
      "19/19 [==============================] - 3s 178ms/step - loss: 2.0956e-04 - val_loss: 1.8558e-04\n",
      "Epoch 61/80\n",
      "19/19 [==============================] - 3s 172ms/step - loss: 2.0893e-04 - val_loss: 2.4163e-04\n",
      "Epoch 62/80\n",
      "19/19 [==============================] - 3s 175ms/step - loss: 2.5088e-04 - val_loss: 2.3828e-04\n",
      "Epoch 63/80\n",
      "19/19 [==============================] - 3s 174ms/step - loss: 2.5265e-04 - val_loss: 1.7622e-04\n",
      "Epoch 64/80\n",
      "19/19 [==============================] - 3s 168ms/step - loss: 2.2972e-04 - val_loss: 1.9495e-04\n",
      "Epoch 65/80\n",
      "19/19 [==============================] - 3s 175ms/step - loss: 2.3420e-04 - val_loss: 2.3221e-04\n",
      "Epoch 66/80\n",
      "19/19 [==============================] - 3s 176ms/step - loss: 1.9977e-04 - val_loss: 1.7043e-04\n",
      "Epoch 67/80\n",
      "19/19 [==============================] - 3s 174ms/step - loss: 1.9004e-04 - val_loss: 1.9122e-04\n",
      "Epoch 68/80\n",
      "19/19 [==============================] - 3s 177ms/step - loss: 1.8377e-04 - val_loss: 1.5851e-04\n",
      "Epoch 69/80\n",
      "19/19 [==============================] - 3s 171ms/step - loss: 1.7712e-04 - val_loss: 1.6487e-04\n",
      "Epoch 70/80\n",
      "19/19 [==============================] - 3s 179ms/step - loss: 1.7319e-04 - val_loss: 1.8528e-04\n",
      "Epoch 71/80\n",
      "19/19 [==============================] - 3s 183ms/step - loss: 2.0761e-04 - val_loss: 2.6547e-04\n",
      "Epoch 72/80\n",
      "19/19 [==============================] - 3s 175ms/step - loss: 2.1851e-04 - val_loss: 1.8487e-04\n",
      "Epoch 73/80\n",
      "19/19 [==============================] - 3s 182ms/step - loss: 1.7688e-04 - val_loss: 1.6529e-04\n",
      "Epoch 74/80\n",
      "19/19 [==============================] - 3s 176ms/step - loss: 1.6165e-04 - val_loss: 1.4475e-04\n",
      "Epoch 75/80\n",
      "19/19 [==============================] - 3s 172ms/step - loss: 1.7169e-04 - val_loss: 1.3993e-04\n",
      "Epoch 76/80\n",
      "19/19 [==============================] - 3s 177ms/step - loss: 1.5705e-04 - val_loss: 1.5087e-04\n",
      "Epoch 77/80\n",
      "19/19 [==============================] - 3s 175ms/step - loss: 1.5640e-04 - val_loss: 1.3597e-04\n",
      "Epoch 78/80\n",
      "19/19 [==============================] - 3s 173ms/step - loss: 1.5365e-04 - val_loss: 1.3171e-04\n",
      "Epoch 79/80\n",
      "19/19 [==============================] - 3s 172ms/step - loss: 1.6563e-04 - val_loss: 1.3556e-04\n",
      "Epoch 80/80\n",
      "19/19 [==============================] - 3s 172ms/step - loss: 1.4677e-04 - val_loss: 1.3195e-04\n"
     ]
    },
    {
     "data": {
      "text/plain": [
       "<keras.callbacks.History at 0x1ded97668e0>"
      ]
     },
     "execution_count": 71,
     "metadata": {},
     "output_type": "execute_result"
    }
   ],
   "source": [
    "model.fit(X_train, y_train, validation_split=0.1, epochs= 80, batch_size=64, verbose = 1)"
   ]
  },
  {
   "cell_type": "markdown",
   "id": "4227c28c",
   "metadata": {},
   "source": [
    "Prediction and Checking Part"
   ]
  },
  {
   "cell_type": "code",
   "execution_count": 72,
   "id": "bae98f89",
   "metadata": {},
   "outputs": [],
   "source": [
    "predictions = model.predict(X_test)"
   ]
  },
  {
   "cell_type": "code",
   "execution_count": 73,
   "id": "2203b85d",
   "metadata": {},
   "outputs": [],
   "source": [
    "inv_predictions = scaler.inverse_transform(predictions)"
   ]
  },
  {
   "cell_type": "code",
   "execution_count": 74,
   "id": "c1d15760",
   "metadata": {},
   "outputs": [
    {
     "data": {
      "text/plain": [
       "array([[141.15479 ],\n",
       "       [141.22327 ],\n",
       "       [139.53197 ],\n",
       "       [135.68317 ],\n",
       "       [135.37523 ],\n",
       "       [136.06065 ],\n",
       "       [138.37317 ],\n",
       "       [139.62424 ],\n",
       "       [138.39897 ],\n",
       "       [137.28653 ],\n",
       "       [137.49512 ],\n",
       "       [140.17578 ],\n",
       "       [140.57271 ],\n",
       "       [142.55823 ],\n",
       "       [145.13155 ],\n",
       "       [139.44135 ],\n",
       "       [137.21997 ],\n",
       "       [139.51393 ],\n",
       "       [141.11742 ],\n",
       "       [149.18173 ],\n",
       "       [151.76631 ],\n",
       "       [150.8394  ],\n",
       "       [149.87589 ],\n",
       "       [146.87917 ],\n",
       "       [149.47609 ],\n",
       "       [149.66216 ],\n",
       "       [150.30086 ],\n",
       "       [152.67987 ],\n",
       "       [152.02505 ],\n",
       "       [151.14777 ],\n",
       "       [152.07281 ],\n",
       "       [149.74622 ],\n",
       "       [145.07634 ],\n",
       "       [138.1572  ],\n",
       "       [137.55359 ],\n",
       "       [138.73712 ],\n",
       "       [138.95143 ],\n",
       "       [136.27998 ],\n",
       "       [132.2913  ],\n",
       "       [127.80713 ],\n",
       "       [126.814575],\n",
       "       [127.06236 ],\n",
       "       [124.1754  ],\n",
       "       [124.11366 ],\n",
       "       [121.16538 ],\n",
       "       [118.090576],\n",
       "       [119.029465],\n",
       "       [119.23704 ],\n",
       "       [119.721176],\n",
       "       [117.74077 ],\n",
       "       [116.80258 ],\n",
       "       [116.910034],\n",
       "       [115.97796 ],\n",
       "       [116.80106 ],\n",
       "       [119.04666 ],\n",
       "       [121.05195 ],\n",
       "       [122.82002 ],\n",
       "       [122.5302  ],\n",
       "       [121.483505],\n",
       "       [121.89152 ],\n",
       "       [122.471436],\n",
       "       [122.19975 ],\n",
       "       [122.64469 ],\n",
       "       [123.174164],\n",
       "       [123.14439 ],\n",
       "       [122.95949 ],\n",
       "       [122.53469 ],\n",
       "       [123.17549 ],\n",
       "       [123.74508 ],\n",
       "       [123.940216],\n",
       "       [122.28149 ],\n",
       "       [121.146225],\n",
       "       [119.72194 ],\n",
       "       [118.69655 ],\n",
       "       [117.44801 ],\n",
       "       [118.5875  ],\n",
       "       [119.45254 ],\n",
       "       [120.43308 ],\n",
       "       [121.37745 ],\n",
       "       [122.555176],\n",
       "       [123.60213 ],\n",
       "       [123.98526 ],\n",
       "       [124.312805],\n",
       "       [124.1612  ],\n",
       "       [124.00121 ],\n",
       "       [123.81069 ],\n",
       "       [125.425446],\n",
       "       [125.453255],\n",
       "       [126.66329 ],\n",
       "       [127.24787 ],\n",
       "       [127.21806 ],\n",
       "       [127.61357 ],\n",
       "       [128.97368 ],\n",
       "       [127.50928 ],\n",
       "       [126.852234],\n",
       "       [127.24715 ],\n",
       "       [127.67277 ],\n",
       "       [128.33476 ],\n",
       "       [129.40732 ],\n",
       "       [129.03853 ],\n",
       "       [129.13188 ],\n",
       "       [133.75224 ],\n",
       "       [139.54584 ],\n",
       "       [142.46573 ],\n",
       "       [141.75412 ],\n",
       "       [143.30927 ],\n",
       "       [143.03958 ],\n",
       "       [142.43474 ],\n",
       "       [140.98982 ],\n",
       "       [139.96317 ],\n",
       "       [138.31189 ],\n",
       "       [138.62604 ],\n",
       "       [139.39255 ],\n",
       "       [140.69257 ],\n",
       "       [141.20819 ],\n",
       "       [140.00038 ],\n",
       "       [138.59981 ],\n",
       "       [137.87299 ],\n",
       "       [137.27301 ],\n",
       "       [140.7521  ],\n",
       "       [141.36691 ],\n",
       "       [142.1238  ],\n",
       "       [142.34871 ],\n",
       "       [141.86633 ],\n",
       "       [140.6205  ],\n",
       "       [139.68074 ],\n",
       "       [137.11418 ],\n",
       "       [137.52301 ],\n",
       "       [139.48863 ],\n",
       "       [143.02654 ],\n",
       "       [144.57794 ],\n",
       "       [145.46368 ],\n",
       "       [145.08096 ],\n",
       "       [142.63454 ],\n",
       "       [147.24539 ],\n",
       "       [150.25737 ],\n",
       "       [148.68506 ],\n",
       "       [148.49144 ],\n",
       "       [148.92886 ],\n",
       "       [148.88435 ],\n",
       "       [149.09767 ],\n",
       "       [150.26067 ],\n",
       "       [151.35733 ],\n",
       "       [151.87169 ],\n",
       "       [150.02284 ],\n",
       "       [149.25302 ],\n",
       "       [151.20143 ],\n",
       "       [151.13843 ],\n",
       "       [149.66821 ],\n",
       "       [148.25858 ],\n",
       "       [147.03748 ],\n",
       "       [148.31316 ],\n",
       "       [150.69945 ],\n",
       "       [150.86623 ],\n",
       "       [150.72575 ],\n",
       "       [150.39081 ],\n",
       "       [151.72247 ],\n",
       "       [151.22565 ],\n",
       "       [151.37305 ],\n",
       "       [155.04683 ],\n",
       "       [155.60258 ],\n",
       "       [154.1955  ],\n",
       "       [151.17026 ],\n",
       "       [150.44379 ],\n",
       "       [152.06624 ],\n",
       "       [153.66144 ],\n",
       "       [153.35295 ],\n",
       "       [151.76648 ],\n",
       "       [152.55547 ],\n",
       "       [153.18584 ],\n",
       "       [152.02518 ],\n",
       "       [147.37692 ],\n",
       "       [147.06212 ],\n",
       "       [146.93884 ],\n",
       "       [144.75266 ],\n",
       "       [141.60199 ],\n",
       "       [141.54666 ],\n",
       "       [145.00194 ],\n",
       "       [145.70322 ],\n",
       "       [145.10541 ],\n",
       "       [147.23434 ],\n",
       "       [150.5542  ],\n",
       "       [153.33939 ],\n",
       "       [153.83116 ],\n",
       "       [151.83783 ],\n",
       "       [152.67564 ],\n",
       "       [153.00703 ],\n",
       "       [152.88031 ],\n",
       "       [151.16998 ],\n",
       "       [153.75179 ],\n",
       "       [156.98012 ],\n",
       "       [158.21051 ],\n",
       "       [157.16313 ],\n",
       "       [154.95543 ],\n",
       "       [154.61752 ],\n",
       "       [155.05174 ],\n",
       "       [153.82022 ],\n",
       "       [150.52171 ],\n",
       "       [146.63339 ],\n",
       "       [147.10123 ],\n",
       "       [147.858   ],\n",
       "       [149.61368 ],\n",
       "       [150.89336 ],\n",
       "       [149.75331 ],\n",
       "       [153.22392 ],\n",
       "       [153.0198  ],\n",
       "       [155.15295 ],\n",
       "       [162.93716 ],\n",
       "       [168.1053  ],\n",
       "       [171.44078 ],\n",
       "       [172.63762 ],\n",
       "       [171.14699 ],\n",
       "       [172.82736 ],\n",
       "       [171.26247 ],\n",
       "       [171.87933 ],\n",
       "       [169.49069 ],\n",
       "       [169.61122 ],\n",
       "       [168.49707 ],\n",
       "       [169.14314 ],\n",
       "       [170.47498 ],\n",
       "       [167.36057 ],\n",
       "       [166.64832 ],\n",
       "       [167.43774 ],\n",
       "       [166.03786 ],\n",
       "       [163.37968 ],\n",
       "       [164.16824 ],\n",
       "       [164.8713  ],\n",
       "       [168.21031 ],\n",
       "       [165.34183 ],\n",
       "       [160.2751  ],\n",
       "       [154.3549  ],\n",
       "       [160.19899 ],\n",
       "       [175.83607 ],\n",
       "       [192.71577 ],\n",
       "       [190.51187 ],\n",
       "       [188.34021 ],\n",
       "       [189.69893 ],\n",
       "       [184.90686 ],\n",
       "       [190.67992 ],\n",
       "       [191.41747 ],\n",
       "       [189.8344  ],\n",
       "       [186.98291 ],\n",
       "       [193.3396  ],\n",
       "       [195.81757 ],\n",
       "       [194.21579 ],\n",
       "       [189.21478 ],\n",
       "       [192.19759 ],\n",
       "       [202.57535 ],\n",
       "       [202.84673 ],\n",
       "       [201.53748 ],\n",
       "       [203.59724 ],\n",
       "       [206.8801  ],\n",
       "       [202.19193 ],\n",
       "       [206.39253 ],\n",
       "       [206.38899 ],\n",
       "       [208.49298 ],\n",
       "       [211.60333 ],\n",
       "       [208.70491 ],\n",
       "       [206.60918 ],\n",
       "       [196.21918 ],\n",
       "       [192.40173 ],\n",
       "       [202.70654 ],\n",
       "       [197.90602 ],\n",
       "       [199.62906 ],\n",
       "       [202.8062  ],\n",
       "       [202.72514 ],\n",
       "       [200.27037 ],\n",
       "       [204.59702 ],\n",
       "       [205.51302 ],\n",
       "       [203.437   ],\n",
       "       [203.49925 ],\n",
       "       [205.08707 ],\n",
       "       [207.92084 ],\n",
       "       [205.97853 ],\n",
       "       [204.72136 ],\n",
       "       [205.89595 ],\n",
       "       [202.75513 ],\n",
       "       [200.35951 ],\n",
       "       [199.55179 ],\n",
       "       [206.60497 ],\n",
       "       [202.49953 ],\n",
       "       [205.14719 ],\n",
       "       [216.57057 ],\n",
       "       [222.29465 ],\n",
       "       [219.68843 ],\n",
       "       [219.4039  ],\n",
       "       [218.95094 ],\n",
       "       [218.78423 ],\n",
       "       [229.36601 ],\n",
       "       [219.06752 ],\n",
       "       [217.45114 ],\n",
       "       [236.44876 ],\n",
       "       [230.91743 ],\n",
       "       [225.5966  ],\n",
       "       [240.26036 ],\n",
       "       [244.34375 ],\n",
       "       [242.19406 ],\n",
       "       [250.46434 ],\n",
       "       [265.80453 ],\n",
       "       [260.19235 ],\n",
       "       [260.3749  ],\n",
       "       [263.8515  ],\n",
       "       [268.8289  ],\n",
       "       [266.88986 ],\n",
       "       [278.40436 ],\n",
       "       [268.28784 ],\n",
       "       [277.30826 ],\n",
       "       [273.7809  ],\n",
       "       [268.944   ],\n",
       "       [272.84506 ],\n",
       "       [267.52643 ],\n",
       "       [278.30127 ],\n",
       "       [280.67914 ],\n",
       "       [288.16806 ],\n",
       "       [273.85764 ],\n",
       "       [274.4253  ],\n",
       "       [278.18323 ],\n",
       "       [280.2085  ],\n",
       "       [283.072   ],\n",
       "       [292.05493 ],\n",
       "       [288.6812  ],\n",
       "       [287.8399  ],\n",
       "       [292.70685 ],\n",
       "       [295.68494 ],\n",
       "       [294.05655 ],\n",
       "       [296.0134  ],\n",
       "       [306.94803 ],\n",
       "       [299.38748 ],\n",
       "       [299.13358 ],\n",
       "       [301.9385  ],\n",
       "       [302.86368 ],\n",
       "       [303.14752 ],\n",
       "       [308.1675  ],\n",
       "       [303.93427 ],\n",
       "       [303.81415 ],\n",
       "       [304.42566 ],\n",
       "       [317.91492 ],\n",
       "       [309.54404 ],\n",
       "       [303.58844 ],\n",
       "       [305.67142 ],\n",
       "       [297.67627 ],\n",
       "       [303.6841  ],\n",
       "       [302.75677 ],\n",
       "       [299.15115 ],\n",
       "       [296.84875 ],\n",
       "       [298.05707 ],\n",
       "       [294.85138 ],\n",
       "       [297.7318  ],\n",
       "       [281.68652 ],\n",
       "       [284.44644 ],\n",
       "       [270.81888 ],\n",
       "       [272.225   ],\n",
       "       [265.669   ],\n",
       "       [280.5964  ],\n",
       "       [275.2913  ],\n",
       "       [269.73108 ],\n",
       "       [279.4396  ],\n",
       "       [273.72684 ],\n",
       "       [270.39844 ],\n",
       "       [268.98602 ],\n",
       "       [261.69135 ],\n",
       "       [258.478   ],\n",
       "       [264.64764 ],\n",
       "       [257.5895  ],\n",
       "       [266.6966  ],\n",
       "       [267.6227  ],\n",
       "       [266.39804 ],\n",
       "       [266.85214 ],\n",
       "       [266.46527 ],\n",
       "       [267.80685 ],\n",
       "       [266.21332 ],\n",
       "       [260.86972 ],\n",
       "       [267.94437 ],\n",
       "       [261.40002 ],\n",
       "       [270.1241  ],\n",
       "       [271.00604 ],\n",
       "       [269.06412 ],\n",
       "       [270.7479  ],\n",
       "       [263.05435 ],\n",
       "       [252.4221  ],\n",
       "       [259.2061  ],\n",
       "       [260.58746 ],\n",
       "       [253.11017 ],\n",
       "       [252.79097 ],\n",
       "       [258.37778 ],\n",
       "       [258.11194 ],\n",
       "       [250.82034 ],\n",
       "       [272.1968  ],\n",
       "       [265.75357 ],\n",
       "       [258.1776  ],\n",
       "       [265.22903 ],\n",
       "       [265.32407 ],\n",
       "       [270.00635 ],\n",
       "       [266.36118 ],\n",
       "       [264.92447 ],\n",
       "       [266.5228  ],\n",
       "       [268.50302 ],\n",
       "       [272.24356 ],\n",
       "       [272.1268  ],\n",
       "       [274.9307  ],\n",
       "       [276.71344 ],\n",
       "       [276.20847 ],\n",
       "       [273.68985 ],\n",
       "       [274.80646 ],\n",
       "       [281.98544 ],\n",
       "       [281.98    ],\n",
       "       [281.66174 ],\n",
       "       [288.08337 ],\n",
       "       [281.33957 ],\n",
       "       [276.42892 ],\n",
       "       [281.55893 ],\n",
       "       [288.13208 ],\n",
       "       [279.71045 ],\n",
       "       [283.69083 ],\n",
       "       [276.70352 ],\n",
       "       [281.00974 ],\n",
       "       [244.89774 ],\n",
       "       [241.32199 ],\n",
       "       [247.54472 ],\n",
       "       [251.79791 ],\n",
       "       [243.12521 ],\n",
       "       [240.07854 ],\n",
       "       [244.66974 ],\n",
       "       [246.52658 ],\n",
       "       [249.06157 ],\n",
       "       [251.19063 ],\n",
       "       [253.04774 ],\n",
       "       [248.9079  ],\n",
       "       [257.58246 ],\n",
       "       [262.01648 ],\n",
       "       [253.015   ],\n",
       "       [246.04341 ],\n",
       "       [259.57068 ],\n",
       "       [260.3342  ],\n",
       "       [258.67575 ],\n",
       "       [258.51953 ],\n",
       "       [255.46501 ],\n",
       "       [260.9379  ],\n",
       "       [262.58676 ],\n",
       "       [269.9812  ],\n",
       "       [261.51755 ],\n",
       "       [266.2626  ],\n",
       "       [258.2009  ],\n",
       "       [253.3334  ],\n",
       "       [253.82788 ],\n",
       "       [258.87872 ],\n",
       "       [259.45776 ],\n",
       "       [260.514   ],\n",
       "       [257.57617 ],\n",
       "       [256.20273 ],\n",
       "       [263.25085 ],\n",
       "       [256.422   ],\n",
       "       [274.7987  ],\n",
       "       [267.2953  ],\n",
       "       [259.27435 ],\n",
       "       [258.4655  ],\n",
       "       [270.89935 ],\n",
       "       [267.34116 ],\n",
       "       [260.14145 ],\n",
       "       [257.8969  ],\n",
       "       [253.27635 ],\n",
       "       [237.5083  ],\n",
       "       [247.47258 ],\n",
       "       [237.17567 ],\n",
       "       [229.98363 ],\n",
       "       [238.25522 ],\n",
       "       [241.9289  ],\n",
       "       [241.44467 ],\n",
       "       [229.26828 ],\n",
       "       [233.69543 ],\n",
       "       [238.95938 ],\n",
       "       [237.09987 ],\n",
       "       [241.1387  ],\n",
       "       [228.28314 ],\n",
       "       [229.60696 ],\n",
       "       [231.43633 ],\n",
       "       [236.12953 ],\n",
       "       [232.60257 ],\n",
       "       [230.29857 ],\n",
       "       [232.13087 ],\n",
       "       [228.23224 ],\n",
       "       [229.49283 ],\n",
       "       [233.25145 ],\n",
       "       [234.20885 ],\n",
       "       [236.94647 ],\n",
       "       [238.45554 ],\n",
       "       [232.73056 ],\n",
       "       [228.15207 ],\n",
       "       [225.74588 ],\n",
       "       [233.8857  ],\n",
       "       [229.24162 ],\n",
       "       [229.09258 ],\n",
       "       [231.20001 ],\n",
       "       [228.85384 ],\n",
       "       [231.17412 ],\n",
       "       [217.25688 ],\n",
       "       [217.35904 ],\n",
       "       [218.91167 ],\n",
       "       [220.6275  ],\n",
       "       [218.62143 ],\n",
       "       [211.38553 ],\n",
       "       [218.92506 ],\n",
       "       [231.37769 ],\n",
       "       [231.20691 ],\n",
       "       [226.45445 ],\n",
       "       [226.82875 ],\n",
       "       [228.04524 ],\n",
       "       [227.22018 ],\n",
       "       [230.57193 ],\n",
       "       [228.6432  ]], dtype=float32)"
      ]
     },
     "execution_count": 74,
     "metadata": {},
     "output_type": "execute_result"
    }
   ],
   "source": [
    "inv_predictions"
   ]
  },
  {
   "cell_type": "code",
   "execution_count": 79,
   "id": "98b167d8",
   "metadata": {},
   "outputs": [],
   "source": [
    "train_predict=model.predict(X_train)\n",
    "test_predict=model.predict(X_test)\n",
    "#Transformback to original form\n",
    "train_predict=scaler.inverse_transform(train_predict)\n",
    "test_predict=scaler.inverse_transform(test_predict)"
   ]
  },
  {
   "cell_type": "markdown",
   "id": "9c94b00c",
   "metadata": {},
   "source": [
    "Calculate RootMeanSquare Error of the model"
   ]
  },
  {
   "cell_type": "code",
   "execution_count": 83,
   "id": "2ffd6300",
   "metadata": {},
   "outputs": [
    {
     "name": "stdout",
     "output_type": "stream",
     "text": [
      "The MSE for above model is:  0.02902315106996407\n"
     ]
    }
   ],
   "source": [
    "MSE = math.sqrt(mean_squared_error(y_test, predictions))\n",
    "print(\"The MSE for above model is: \", MSE)"
   ]
  },
  {
   "cell_type": "code",
   "execution_count": 84,
   "id": "hungry-completion",
   "metadata": {},
   "outputs": [
    {
     "data": {
      "text/plain": [
       "132.79939097856803"
      ]
     },
     "execution_count": 84,
     "metadata": {},
     "output_type": "execute_result"
    }
   ],
   "source": [
    "math.sqrt(mean_squared_error(y_train,train_predict))"
   ]
  },
  {
   "cell_type": "code",
   "execution_count": 85,
   "id": "blond-newton",
   "metadata": {},
   "outputs": [
    {
     "data": {
      "text/plain": [
       "208.46609722707214"
      ]
     },
     "execution_count": 85,
     "metadata": {},
     "output_type": "execute_result"
    }
   ],
   "source": [
    "math.sqrt(mean_squared_error(y_test,test_predict))"
   ]
  },
  {
   "cell_type": "markdown",
   "id": "40bdd9a4",
   "metadata": {},
   "source": [
    "Plotting"
   ]
  },
  {
   "cell_type": "code",
   "execution_count": 94,
   "id": "4791ff0c",
   "metadata": {},
   "outputs": [
    {
     "data": {
      "image/png": "[encoded data removed]",
      "text/plain": [
       "<Figure size 720x360 with 1 Axes>"
      ]
     },
     "metadata": {
      "needs_background": "light"
     },
     "output_type": "display_data"
    }
   ],
   "source": [
    "# shift train predictions for plotting\n",
    "look_back=100\n",
    "trainPredictPlot = np.empty_like(data_close)\n",
    "trainPredictPlot[:, :] = np.nan\n",
    "trainPredictPlot[look_back:len(train_predict)+look_back, :] = train_predict\n",
    "\n",
    "# shift test predictions for plotting\n",
    "testPredictPlot = np.empty_like(data_close)\n",
    "testPredictPlot[:, :] = np.nan\n",
    "testPredictPlot[len(train_predict)+(look_back*2)+1:len(data1)-1, :] = test_predict\n",
    "\n",
    "# plot baseline and predictions\n",
    "plt.figure(figsize=(10,5))\n",
    "plt.plot(scaler.inverse_transform(data_close))\n",
    "plt.plot(trainPredictPlot)\n",
    "plt.plot(testPredictPlot)\n",
    "plt.show()"
   ]
  }
 ],
 "metadata": {
  "kernelspec": {
   "display_name": "Python 3",
   "language": "python",
   "name": "python3"
  },
  "language_info": {
   "codemirror_mode": {
    "name": "ipython",
    "version": 3
   },
   "file_extension": ".py",
   "mimetype": "text/x-python",
   "name": "python",
   "nbconvert_exporter": "python",
   "pygments_lexer": "ipython3",
   "version": "3.9.2"
  }
 },
 "nbformat": 4,
 "nbformat_minor": 5
}
