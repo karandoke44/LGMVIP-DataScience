{
 "cells": [
  {
   "cell_type": "markdown",
   "id": "hourly-depression",
   "metadata": {},
   "source": [
    "# LGMVIP - Data Science Intern, April-2022"
   ]
  },
  {
   "cell_type": "markdown",
   "id": "subjective-advice",
   "metadata": {},
   "source": [
    "### AUTHOR - Karan Doke"
   ]
  },
  {
   "cell_type": "markdown",
   "id": "hidden-current",
   "metadata": {},
   "source": [
    "## Advanced Level Task"
   ]
  },
  {
   "cell_type": "markdown",
   "id": "cleared-coupon",
   "metadata": {},
   "source": [
    "## TASK 7 - Develop A Neural Network That Can Read Handwriting :\n",
    "Begin my neural network machine learning project with the MNIST Handwritten Digit Classification Challenge and using Tensorflow and CNN. It has a very user-friendly interface that’s ideal for beginners."
   ]
  },
  {
   "cell_type": "markdown",
   "id": "parallel-numbers",
   "metadata": {},
   "source": [
    "#### Dataset link : https://en.wikipedia.org/wiki/MNIST_database"
   ]
  },
  {
   "cell_type": "markdown",
   "id": "chronic-coast",
   "metadata": {},
   "source": [
    "### Importing Libraries"
   ]
  },
  {
   "cell_type": "code",
   "execution_count": 2,
   "id": "verified-concentration",
   "metadata": {},
   "outputs": [],
   "source": [
    "#Importing packages\n",
    "import tensorflow as tf\n",
    "import numpy as np\n",
    "from matplotlib import pyplot as plt\n",
    "import seaborn as sns\n",
    "import warnings \n",
    "warnings.filterwarnings('ignore')"
   ]
  },
  {
   "cell_type": "markdown",
   "id": "looking-appliance",
   "metadata": {},
   "source": [
    "## Loading dataset"
   ]
  },
  {
   "cell_type": "code",
   "execution_count": 7,
   "id": "lovely-concert",
   "metadata": {},
   "outputs": [],
   "source": [
    "(x_train,y_train),(x_test,y_test)=tf.keras.datasets.mnist.load_data()"
   ]
  },
  {
   "cell_type": "markdown",
   "id": "patient-particle",
   "metadata": {},
   "source": [
    "### Displaying some images"
   ]
  },
  {
   "cell_type": "code",
   "execution_count": 11,
   "id": "suspended-inspiration",
   "metadata": {},
   "outputs": [
    {
     "data": {
      "image/png": "[encoded data removed]",
      "text/plain": [
       "<Figure size 864x576 with 9 Axes>"
      ]
     },
     "metadata": {
      "needs_background": "light"
     },
     "output_type": "display_data"
    }
   ],
   "source": [
    "plt.figure(figsize=(12, 8))\n",
    "np.random.seed(0)\n",
    "idx = np.random.randint(0, 60000, 9)\n",
    "\n",
    "for i in range(len(idx)):\n",
    "    plt.subplot(3, 3, i+1)\n",
    "    plt.title(y_train[idx[i]])\n",
    "    grid_data = np.reshape(x_train[idx[i]], (28,28))\n",
    "    plt.imshow(grid_data, cmap='gray')"
   ]
  },
  {
   "cell_type": "markdown",
   "id": "christian-organ",
   "metadata": {},
   "source": [
    "### Plotting count plot"
   ]
  },
  {
   "cell_type": "code",
   "execution_count": 18,
   "id": "governing-extension",
   "metadata": {},
   "outputs": [
    {
     "data": {
      "text/plain": [
       "<AxesSubplot:ylabel='count'>"
      ]
     },
     "execution_count": 18,
     "metadata": {},
     "output_type": "execute_result"
    },
    {
     "data": {
      "image/png": "[encoded data removed]",
      "text/plain": [
       "<Figure size 864x432 with 1 Axes>"
      ]
     },
     "metadata": {
      "needs_background": "light"
     },
     "output_type": "display_data"
    }
   ],
   "source": [
    "plt.figure(figsize = (12,6))\n",
    "sns.countplot(y_train,palette=\"mako\")"
   ]
  },
  {
   "cell_type": "markdown",
   "id": "champion-pocket",
   "metadata": {},
   "source": [
    "### Pre-processing the data"
   ]
  },
  {
   "cell_type": "code",
   "execution_count": 20,
   "id": "piano-feeling",
   "metadata": {},
   "outputs": [
    {
     "name": "stdout",
     "output_type": "stream",
     "text": [
      "Training images shape :  (60000, 28, 28)\n",
      "Testing images shape :  (10000, 28, 28)\n"
     ]
    }
   ],
   "source": [
    "# Pre-processing the data\n",
    "print('Training images shape : ',x_train.shape)\n",
    "print('Testing images shape : ',x_test.shape)"
   ]
  },
  {
   "cell_type": "code",
   "execution_count": 21,
   "id": "exciting-company",
   "metadata": {},
   "outputs": [],
   "source": [
    "x_train = x_train.reshape(x_train.shape[0], 28, 28, 1)\n",
    "x_test = x_test.reshape(x_test.shape[0], 28, 28, 1)\n",
    "input_shape = (28, 28, 1)"
   ]
  },
  {
   "cell_type": "code",
   "execution_count": 22,
   "id": "corporate-prototype",
   "metadata": {},
   "outputs": [],
   "source": [
    "# Applying Normalization\n",
    "x_train=x_train/255.0\n",
    "x_test=x_test/255.0\n",
    "num_classes = 10"
   ]
  },
  {
   "cell_type": "markdown",
   "id": "spectacular-optimization",
   "metadata": {},
   "source": [
    "## Creating the model\n",
    "### Model Architecture\n",
    "We will have to first build the model architecture and define it based on our dataset. We are going to add the following layers:\n",
    "\n",
    "1. Conv2D - for the convolution layers\n",
    "2. Dropout - to prevent overfitting\n",
    "3. Dense - a fully connected layer\n",
    "4. Softmax activation - This is used to convert all predictions into probability\n",
    "The model architecture can be tuned to get optimal performance\n",
    "\n",
    "so i am goimg to create a model with\n",
    "\n",
    "#### CNN + Three layers + relu + (3,3) kernel_size + Dropout rate (0.3)"
   ]
  },
  {
   "cell_type": "code",
   "execution_count": 23,
   "id": "wicked-helena",
   "metadata": {},
   "outputs": [],
   "source": [
    "from tensorflow.keras.models import Sequential\n",
    "from tensorflow.keras.layers import Dense, Dropout, Flatten,Activation\n",
    "from tensorflow.keras.layers import Conv2D,MaxPooling2D\n",
    "from tensorflow.keras.layers import BatchNormalization"
   ]
  },
  {
   "cell_type": "code",
   "execution_count": 24,
   "id": "determined-actress",
   "metadata": {},
   "outputs": [],
   "source": [
    "model = Sequential()\n",
    "\n",
    "model.add(Conv2D(128, kernel_size=(3, 3),\n",
    "                 activation=tf.nn.relu,\n",
    "                 input_shape=input_shape))\n",
    "model.add(BatchNormalization())\n",
    "model.add(Dropout(0.3))\n",
    "\n",
    "model.add(Conv2D(64, (3, 3), activation=tf.nn.relu))\n",
    "model.add(BatchNormalization())\n",
    "model.add(Dropout(0.3))\n",
    "\n",
    "model.add(Conv2D(32, (3, 3), activation=tf.nn.relu))\n",
    "model.add(BatchNormalization())\n",
    "model.add(Dropout(0.3))\n",
    "\n",
    "\n",
    "model.add(MaxPooling2D(pool_size=(2, 2)))\n",
    "model.add(Dropout(0.3))\n",
    "model.add(Flatten())\n",
    "model.add(Dense(128, activation=tf.nn.relu))\n",
    "model.add(Dropout(0.3))\n",
    "model.add(Dense(num_classes, activation=tf.nn.softmax))"
   ]
  },
  {
   "cell_type": "code",
   "execution_count": 25,
   "id": "national-magnet",
   "metadata": {},
   "outputs": [
    {
     "name": "stdout",
     "output_type": "stream",
     "text": [
      "Model: \"sequential\"\n",
      "_________________________________________________________________\n",
      " Layer (type)                Output Shape              Param #   \n",
      "=================================================================\n",
      " conv2d (Conv2D)             (None, 26, 26, 128)       1280      \n",
      "                                                                 \n",
      " batch_normalization (BatchN  (None, 26, 26, 128)      512       \n",
      " ormalization)                                                   \n",
      "                                                                 \n",
      " dropout (Dropout)           (None, 26, 26, 128)       0         \n",
      "                                                                 \n",
      " conv2d_1 (Conv2D)           (None, 24, 24, 64)        73792     \n",
      "                                                                 \n",
      " batch_normalization_1 (Batc  (None, 24, 24, 64)       256       \n",
      " hNormalization)                                                 \n",
      "                                                                 \n",
      " dropout_1 (Dropout)         (None, 24, 24, 64)        0         \n",
      "                                                                 \n",
      " conv2d_2 (Conv2D)           (None, 22, 22, 32)        18464     \n",
      "                                                                 \n",
      " batch_normalization_2 (Batc  (None, 22, 22, 32)       128       \n",
      " hNormalization)                                                 \n",
      "                                                                 \n",
      " dropout_2 (Dropout)         (None, 22, 22, 32)        0         \n",
      "                                                                 \n",
      " max_pooling2d (MaxPooling2D  (None, 11, 11, 32)       0         \n",
      " )                                                               \n",
      "                                                                 \n",
      " dropout_3 (Dropout)         (None, 11, 11, 32)        0         \n",
      "                                                                 \n",
      " flatten (Flatten)           (None, 3872)              0         \n",
      "                                                                 \n",
      " dense (Dense)               (None, 128)               495744    \n",
      "                                                                 \n",
      " dropout_4 (Dropout)         (None, 128)               0         \n",
      "                                                                 \n",
      " dense_1 (Dense)             (None, 10)                1290      \n",
      "                                                                 \n",
      "=================================================================\n",
      "Total params: 591,466\n",
      "Trainable params: 591,018\n",
      "Non-trainable params: 448\n",
      "_________________________________________________________________\n"
     ]
    }
   ],
   "source": [
    "model.summary()"
   ]
  },
  {
   "cell_type": "markdown",
   "id": "ceramic-howard",
   "metadata": {},
   "source": [
    "### Training the model"
   ]
  },
  {
   "cell_type": "code",
   "execution_count": 26,
   "id": "external-quest",
   "metadata": {},
   "outputs": [
    {
     "name": "stdout",
     "output_type": "stream",
     "text": [
      "Epoch 1/10\n",
      "1688/1688 [==============================] - 600s 354ms/step - loss: 0.2831 - accuracy: 0.9182 - val_loss: 0.1037 - val_accuracy: 0.9750\n",
      "Epoch 2/10\n",
      "1688/1688 [==============================] - 561s 332ms/step - loss: 0.1148 - accuracy: 0.9674 - val_loss: 0.0690 - val_accuracy: 0.9852\n",
      "Epoch 3/10\n",
      "1688/1688 [==============================] - 559s 331ms/step - loss: 0.0899 - accuracy: 0.9746 - val_loss: 0.0971 - val_accuracy: 0.9837\n",
      "Epoch 4/10\n",
      "1688/1688 [==============================] - 563s 334ms/step - loss: 0.0737 - accuracy: 0.9785 - val_loss: 0.1303 - val_accuracy: 0.9805\n",
      "Epoch 5/10\n",
      "1688/1688 [==============================] - 552s 327ms/step - loss: 0.0687 - accuracy: 0.9805 - val_loss: 0.0767 - val_accuracy: 0.9872\n",
      "Epoch 6/10\n",
      "1688/1688 [==============================] - 553s 328ms/step - loss: 0.0578 - accuracy: 0.9831 - val_loss: 0.1576 - val_accuracy: 0.9802\n",
      "Epoch 7/10\n",
      "1688/1688 [==============================] - 546s 323ms/step - loss: 0.0561 - accuracy: 0.9840 - val_loss: 0.1069 - val_accuracy: 0.9867\n",
      "Epoch 8/10\n",
      "1688/1688 [==============================] - 547s 324ms/step - loss: 0.0488 - accuracy: 0.9858 - val_loss: 0.1083 - val_accuracy: 0.9853\n",
      "Epoch 9/10\n",
      "1688/1688 [==============================] - 543s 322ms/step - loss: 0.0459 - accuracy: 0.9868 - val_loss: 0.1215 - val_accuracy: 0.9838\n",
      "Epoch 10/10\n",
      "1688/1688 [==============================] - 572s 339ms/step - loss: 0.0399 - accuracy: 0.9878 - val_loss: 0.1170 - val_accuracy: 0.9848\n"
     ]
    }
   ],
   "source": [
    "# Train the model\n",
    "model.compile(optimizer='adam', \n",
    "              loss='sparse_categorical_crossentropy', \n",
    "              metrics=['accuracy'])\n",
    "history=model.fit(x=x_train,\n",
    "                  y=y_train,\n",
    "                  validation_split=0.1,\n",
    "                  epochs=10)"
   ]
  },
  {
   "cell_type": "markdown",
   "id": "crucial-istanbul",
   "metadata": {},
   "source": [
    "### Saving and loading the model"
   ]
  },
  {
   "cell_type": "code",
   "execution_count": 27,
   "id": "serial-skiing",
   "metadata": {},
   "outputs": [],
   "source": [
    "model.save('MNproject.h5')"
   ]
  },
  {
   "cell_type": "code",
   "execution_count": 39,
   "id": "hydraulic-junior",
   "metadata": {},
   "outputs": [],
   "source": [
    "from tensorflow.keras.models import load_model\n",
    "model = load_model('MNproject.h5')"
   ]
  },
  {
   "cell_type": "markdown",
   "id": "julian-aquatic",
   "metadata": {},
   "source": [
    "### Evaluating the model"
   ]
  },
  {
   "cell_type": "code",
   "execution_count": 40,
   "id": "transsexual-stuff",
   "metadata": {},
   "outputs": [
    {
     "name": "stdout",
     "output_type": "stream",
     "text": [
      "313/313 [==============================] - 14s 45ms/step - loss: 0.0922 - accuracy: 0.9841\n",
      "Test Loss 0.09223803877830505\n",
      "Test Accuracy 0.9840999841690063\n"
     ]
    }
   ],
   "source": [
    "# Evaluate the model\n",
    "loss_and_acc=model.evaluate(x_test,y_test)\n",
    "print(\"Test Loss\", loss_and_acc[0])\n",
    "print(\"Test Accuracy\", loss_and_acc[1])"
   ]
  },
  {
   "cell_type": "markdown",
   "id": "reasonable-reducing",
   "metadata": {},
   "source": [
    "## Plotting Training & Validation plots"
   ]
  },
  {
   "cell_type": "code",
   "execution_count": 41,
   "id": "controlling-newfoundland",
   "metadata": {},
   "outputs": [
    {
     "data": {
      "image/png": "[encoded data removed]",
      "text/plain": [
       "<Figure size 1440x432 with 2 Axes>"
      ]
     },
     "metadata": {
      "needs_background": "light"
     },
     "output_type": "display_data"
    }
   ],
   "source": [
    "acc = history.history['accuracy']\n",
    "val_acc = history.history['val_accuracy']\n",
    "loss = history.history['loss']\n",
    "val_loss = history.history['val_loss']\n",
    "epochs = range(len(acc))\n",
    "\n",
    "fig, ax = plt.subplots(nrows=1, ncols=2, figsize=(20, 6))\n",
    "ax[0].plot(epochs, acc, 'b', label='Training accuracy')\n",
    "ax[0].plot(epochs, val_acc, 'r', label='Validation accuracy')\n",
    "ax[0].legend(loc=0)\n",
    "ax[1].plot(epochs, loss, 'b', label='Training loss')\n",
    "ax[1].plot(epochs, val_loss, 'r', label='Validation loss')\n",
    "ax[1].legend(loc=0)\n",
    "\n",
    "plt.suptitle('Training and validation')\n",
    "plt.show()"
   ]
  },
  {
   "cell_type": "code",
   "execution_count": 42,
   "id": "according-classification",
   "metadata": {},
   "outputs": [
    {
     "data": {
      "text/plain": [
       "<tf.Tensor: shape=(10, 10), dtype=int32, numpy=\n",
       "array([[ 976,    0,    0,    0,    0,    0,    2,    1,    0,    1],\n",
       "       [   0, 1129,    1,    2,    0,    2,    0,    1,    0,    0],\n",
       "       [   3,   10, 1006,    0,    0,    0,    1,   12,    0,    0],\n",
       "       [   0,    0,    1, 1001,    0,    2,    0,    4,    1,    1],\n",
       "       [   1,   23,    0,    0,  932,    0,    1,    4,    0,   21],\n",
       "       [   1,    1,    0,    8,    0,  878,    3,    0,    0,    1],\n",
       "       [   3,    4,    0,    0,    1,    3,  947,    0,    0,    0],\n",
       "       [   0,    3,    0,    0,    0,    0,    0, 1025,    0,    0],\n",
       "       [   6,    1,    2,    1,    0,    1,    1,    5,  948,    9],\n",
       "       [   0,    1,    0,    0,    2,    3,    0,    4,    0,  999]])>"
      ]
     },
     "execution_count": 42,
     "metadata": {},
     "output_type": "execute_result"
    }
   ],
   "source": [
    "# Confusion Matrix\n",
    "y_predicted = model.predict(x_test)\n",
    "y_predicted_labels = [np.argmax(i) for i in y_predicted]\n",
    "cm = tf.math.confusion_matrix(labels=y_test,predictions=y_predicted_labels)\n",
    "cm"
   ]
  },
  {
   "cell_type": "markdown",
   "id": "saving-reducing",
   "metadata": {},
   "source": [
    "### Plotting heat map"
   ]
  },
  {
   "cell_type": "code",
   "execution_count": 47,
   "id": "recognized-guinea",
   "metadata": {},
   "outputs": [
    {
     "data": {
      "text/plain": [
       "Text(105.0, 0.5, 'Truth')"
      ]
     },
     "execution_count": 47,
     "metadata": {},
     "output_type": "execute_result"
    },
    {
     "data": {
      "image/png": "[encoded data removed]",
      "text/plain": [
       "<Figure size 1008x504 with 2 Axes>"
      ]
     },
     "metadata": {
      "needs_background": "light"
     },
     "output_type": "display_data"
    }
   ],
   "source": [
    "plt.figure(figsize = (14,7))\n",
    "sns.heatmap(cm, annot=True, fmt='d', cmap = 'mako')\n",
    "plt.xlabel('Predicted')\n",
    "plt.ylabel('Truth')"
   ]
  },
  {
   "cell_type": "markdown",
   "id": "loose-thread",
   "metadata": {},
   "source": [
    "## Testing the Model"
   ]
  },
  {
   "cell_type": "code",
   "execution_count": 46,
   "id": "infectious-destiny",
   "metadata": {},
   "outputs": [
    {
     "name": "stdout",
     "output_type": "stream",
     "text": [
      "Predicted Value:  6\n",
      "Successful prediction\n"
     ]
    },
    {
     "data": {
      "image/png": "[encoded data removed]",
      "text/plain": [
       "<Figure size 432x288 with 1 Axes>"
      ]
     },
     "metadata": {
      "needs_background": "light"
     },
     "output_type": "display_data"
    }
   ],
   "source": [
    "# Testing the Model\n",
    "plt.imshow(x_test[50],cmap='gray_r')\n",
    "plt.title('Actual Value: {}'.format(y_test[50]))\n",
    "prediction=model.predict(x_test)\n",
    "\n",
    "plt.axis('off')\n",
    "print('Predicted Value: ',np.argmax(prediction[50]))\n",
    "if(y_test[50]==(np.argmax(prediction[50]))):\n",
    "  print('Successful prediction')\n",
    "else:\n",
    "  print('Unsuccessful prediction')"
   ]
  },
  {
   "cell_type": "code",
   "execution_count": 49,
   "id": "matched-teach",
   "metadata": {},
   "outputs": [
    {
     "name": "stdout",
     "output_type": "stream",
     "text": [
      "Predicted Value:  9\n",
      "Successful prediction\n"
     ]
    },
    {
     "data": {
      "image/png": "[encoded data removed]",
      "text/plain": [
       "<Figure size 432x288 with 1 Axes>"
      ]
     },
     "metadata": {
      "needs_background": "light"
     },
     "output_type": "display_data"
    }
   ],
   "source": [
    "plt.imshow(x_test[73],cmap='gray_r')\n",
    "plt.title('Actual Value: {}'.format(y_test[73]))\n",
    "prediction=model.predict(x_test)\n",
    "plt.axis('off')\n",
    "print('Predicted Value: ',np.argmax(prediction[73]))\n",
    "if(y_test[73]==(np.argmax(prediction[73]))):\n",
    "  print('Successful prediction')\n",
    "else:\n",
    "  print('Unsuccessful prediction')"
   ]
  },
  {
   "cell_type": "markdown",
   "id": "apart-relevance",
   "metadata": {},
   "source": [
    "# THANK YOU !!!!!!"
   ]
  }
 ],
 "metadata": {
  "kernelspec": {
   "display_name": "Python 3",
   "language": "python",
   "name": "python3"
  },
  "language_info": {
   "codemirror_mode": {
    "name": "ipython",
    "version": 3
   },
   "file_extension": ".py",
   "mimetype": "text/x-python",
   "name": "python",
   "nbconvert_exporter": "python",
   "pygments_lexer": "ipython3",
   "version": "3.9.2"
  }
 },
 "nbformat": 4,
 "nbformat_minor": 5
}
