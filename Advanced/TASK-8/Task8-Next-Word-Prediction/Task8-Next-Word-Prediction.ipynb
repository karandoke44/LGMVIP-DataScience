{
 "cells": [
  {
   "cell_type": "markdown",
   "id": "alert-voluntary",
   "metadata": {},
   "source": [
    "# LGMVIP - Data Science Intern, April-2022"
   ]
  },
  {
   "cell_type": "markdown",
   "id": "capital-recorder",
   "metadata": {},
   "source": [
    "### AUTHOR - Karan Doke"
   ]
  },
  {
   "cell_type": "markdown",
   "id": "incomplete-convergence",
   "metadata": {},
   "source": [
    "## Advanced Level Task\n",
    "\n",
    "## TASK-8- Next Word Prediction :\n",
    "Using Tensorflow and Keras library train a RNN, to predict the next word. "
   ]
  },
  {
   "cell_type": "markdown",
   "id": "perceived-equipment",
   "metadata": {},
   "source": [
    "### Dataset link : \n",
    "https://drive.google.com/file/d/1GeUzNVqiixXHnTl8oNiQ2W3CynX_lsu2/view"
   ]
  },
  {
   "cell_type": "markdown",
   "id": "choice-circumstances",
   "metadata": {},
   "source": [
    "### Importing Libraries"
   ]
  },
  {
   "cell_type": "code",
   "execution_count": 1,
   "id": "realistic-transmission",
   "metadata": {},
   "outputs": [],
   "source": [
    "import numpy as np\n",
    "np.random.seed(42)\n",
    "import tensorflow as tf\n",
    "tf.random.set_seed(42)\n",
    "import warnings as wg\n",
    "wg.filterwarnings(\"ignore\") \n",
    "from tensorflow.keras.models import Sequential, load_model\n",
    "from tensorflow.keras.layers import Dense, Activation\n",
    "from tensorflow.keras.layers import LSTM, Dropout\n",
    "from tensorflow.keras.layers import TimeDistributed\n",
    "from tensorflow.keras.layers import Dense, Activation, Dropout, RepeatVector\n",
    "from tensorflow.keras.optimizers import  RMSprop\n",
    "import matplotlib.pyplot as plt\n",
    "import pickle\n",
    "import heapq"
   ]
  },
  {
   "cell_type": "markdown",
   "id": "electrical-second",
   "metadata": {},
   "source": [
    "### Loading the data"
   ]
  },
  {
   "cell_type": "code",
   "execution_count": 2,
   "id": "rapid-solution",
   "metadata": {},
   "outputs": [
    {
     "name": "stdout",
     "output_type": "stream",
     "text": [
      "corpus length: 581888\n"
     ]
    }
   ],
   "source": [
    "#Loading the data\n",
    "text = open('1661-0.txt', encoding=\"utf8\").read().lower()\n",
    "print('corpus length:', len(text))"
   ]
  },
  {
   "cell_type": "markdown",
   "id": "average-member",
   "metadata": {},
   "source": [
    "### Data Preprocessing"
   ]
  },
  {
   "cell_type": "code",
   "execution_count": 5,
   "id": "large-horizontal",
   "metadata": {},
   "outputs": [
    {
     "name": "stdout",
     "output_type": "stream",
     "text": [
      "unique chars: 73\n"
     ]
    }
   ],
   "source": [
    "#Data Preprocessing\n",
    "character = sorted(list(set(text)))\n",
    "char_indices = dict((c, i) for i, c in enumerate(character))\n",
    "indices_char = dict((i, c) for i, c in enumerate(character))\n",
    " \n",
    "print(f'unique chars: {len(character)}')"
   ]
  },
  {
   "cell_type": "code",
   "execution_count": 6,
   "id": "respiratory-community",
   "metadata": {},
   "outputs": [
    {
     "name": "stdout",
     "output_type": "stream",
     "text": [
      "num training examples: 193950\n"
     ]
    }
   ],
   "source": [
    "#chunk 40 characters with 3 sequences\n",
    "seq_len = 40\n",
    "step = 3\n",
    "sentences = []\n",
    "next_chars = []\n",
    "for i in range(0, len(text) - seq_len, step):\n",
    "    sentences.append(text[i: i + seq_len ])\n",
    "    next_chars.append(text[i + seq_len])\n",
    "print(f'num training examples: {len(sentences)}')"
   ]
  },
  {
   "cell_type": "code",
   "execution_count": 7,
   "id": "roman-chick",
   "metadata": {},
   "outputs": [
    {
     "data": {
      "text/plain": [
       "'e'"
      ]
     },
     "execution_count": 7,
     "metadata": {},
     "output_type": "execute_result"
    }
   ],
   "source": [
    "# generating our features and labels\n",
    "#one hot encoding\n",
    "X = np.zeros((len(sentences), seq_len, len(character)), dtype=np.bool)\n",
    "y = np.zeros((len(sentences), len(character)), dtype=np.bool)\n",
    "for i, sentence in enumerate(sentences):\n",
    "    for t, char in enumerate(sentence):\n",
    "        X[i, t, char_indices[char]] = 1\n",
    "    y[i, char_indices[next_chars[i]]] = 1\n",
    "\n",
    "sentences[124]\n",
    "next_chars[100]"
   ]
  },
  {
   "cell_type": "code",
   "execution_count": 8,
   "id": "gothic-logan",
   "metadata": {},
   "outputs": [
    {
     "data": {
      "text/plain": [
       "array([False, False, False, False, False, False, False, False, False,\n",
       "       False, False, False, False, False, False, False, False, False,\n",
       "       False, False, False, False, False, False, False, False, False,\n",
       "       False, False, False, False, False, False, False, False, False,\n",
       "       False, False, False, False, False, False, False, False, False,\n",
       "       False, False, False, False, False, False, False, False, False,\n",
       "       False, False, False, False, False, False, False, False, False,\n",
       "       False, False, False, False, False, False, False, False, False,\n",
       "        True])"
      ]
     },
     "execution_count": 8,
     "metadata": {},
     "output_type": "execute_result"
    }
   ],
   "source": [
    "#one hot encoded data\n",
    "X[0][0]"
   ]
  },
  {
   "cell_type": "code",
   "execution_count": 9,
   "id": "proper-enemy",
   "metadata": {},
   "outputs": [
    {
     "data": {
      "text/plain": [
       "array([False, False, False, False, False, False, False, False, False,\n",
       "       False, False, False, False, False, False, False, False, False,\n",
       "       False, False, False, False, False, False, False, False, False,\n",
       "       False, False, False, False, False, False, False, False, False,\n",
       "       False, False, False, False, False, False, False, False, False,\n",
       "       False, False, False, False, False, False,  True, False, False,\n",
       "       False, False, False, False, False, False, False, False, False,\n",
       "       False, False, False, False, False, False, False, False, False,\n",
       "       False])"
      ]
     },
     "execution_count": 9,
     "metadata": {},
     "output_type": "execute_result"
    }
   ],
   "source": [
    "#one hot encoded data\n",
    "y[0]"
   ]
  },
  {
   "cell_type": "code",
   "execution_count": 20,
   "id": "changed-greensboro",
   "metadata": {},
   "outputs": [
    {
     "data": {
      "text/plain": [
       "(193950, 40, 73)"
      ]
     },
     "execution_count": 20,
     "metadata": {},
     "output_type": "execute_result"
    }
   ],
   "source": [
    "X.shape"
   ]
  },
  {
   "cell_type": "code",
   "execution_count": 21,
   "id": "australian-manual",
   "metadata": {},
   "outputs": [
    {
     "data": {
      "text/plain": [
       "(193950, 73)"
      ]
     },
     "execution_count": 21,
     "metadata": {},
     "output_type": "execute_result"
    }
   ],
   "source": [
    "y.shape"
   ]
  },
  {
   "cell_type": "markdown",
   "id": "adjusted-judge",
   "metadata": {},
   "source": [
    "### Creating the model"
   ]
  },
  {
   "cell_type": "code",
   "execution_count": 22,
   "id": "functional-black",
   "metadata": {},
   "outputs": [],
   "source": [
    "# Creating the model\n",
    "model = Sequential()\n",
    "model.add(LSTM(500, input_shape=(seq_len, len(character))))\n",
    "model.add(Dense(len(character)))\n",
    "model.add(Activation('softmax'))"
   ]
  },
  {
   "cell_type": "markdown",
   "id": "furnished-bunch",
   "metadata": {},
   "source": [
    "### Model summary"
   ]
  },
  {
   "cell_type": "code",
   "execution_count": 23,
   "id": "specialized-penny",
   "metadata": {},
   "outputs": [
    {
     "name": "stdout",
     "output_type": "stream",
     "text": [
      "Model: \"sequential_1\"\n",
      "_________________________________________________________________\n",
      " Layer (type)                Output Shape              Param #   \n",
      "=================================================================\n",
      " lstm_1 (LSTM)               (None, 500)               1148000   \n",
      "                                                                 \n",
      " dense_1 (Dense)             (None, 73)                36573     \n",
      "                                                                 \n",
      " activation_1 (Activation)   (None, 73)                0         \n",
      "                                                                 \n",
      "=================================================================\n",
      "Total params: 1,184,573\n",
      "Trainable params: 1,184,573\n",
      "Non-trainable params: 0\n",
      "_________________________________________________________________\n"
     ]
    }
   ],
   "source": [
    "model.summary()"
   ]
  },
  {
   "cell_type": "markdown",
   "id": "hired-coordinate",
   "metadata": {},
   "source": [
    "### Training our model"
   ]
  },
  {
   "cell_type": "code",
   "execution_count": 24,
   "id": "convertible-toddler",
   "metadata": {
    "scrolled": true
   },
   "outputs": [
    {
     "name": "stdout",
     "output_type": "stream",
     "text": [
      "Epoch 1/10\n",
      "1501/1501 [==============================] - 1072s 713ms/step - loss: 1.9221 - accuracy: 0.4374 - val_loss: 2.1037 - val_accuracy: 0.4314\n",
      "Epoch 2/10\n",
      "1501/1501 [==============================] - 1155s 770ms/step - loss: 1.5049 - accuracy: 0.5466 - val_loss: 1.9525 - val_accuracy: 0.4876\n",
      "Epoch 3/10\n",
      "1501/1501 [==============================] - 1354s 902ms/step - loss: 1.3913 - accuracy: 0.5767 - val_loss: 1.9369 - val_accuracy: 0.4624\n",
      "Epoch 4/10\n",
      "1501/1501 [==============================] - 1286s 857ms/step - loss: 1.3279 - accuracy: 0.5938 - val_loss: 1.8956 - val_accuracy: 0.4861\n",
      "Epoch 5/10\n",
      "1501/1501 [==============================] - 1244s 829ms/step - loss: 1.2805 - accuracy: 0.6053 - val_loss: 1.9859 - val_accuracy: 0.5062\n",
      "Epoch 6/10\n",
      "1501/1501 [==============================] - 1113s 741ms/step - loss: 1.2458 - accuracy: 0.6145 - val_loss: 2.0471 - val_accuracy: 0.4964\n",
      "Epoch 7/10\n",
      "1501/1501 [==============================] - 1100s 733ms/step - loss: 1.2091 - accuracy: 0.6247 - val_loss: 2.0111 - val_accuracy: 0.4933\n",
      "Epoch 8/10\n",
      "1501/1501 [==============================] - 1131s 753ms/step - loss: 1.3222 - accuracy: 0.6006 - val_loss: 2.1316 - val_accuracy: 0.4572\n",
      "Epoch 9/10\n",
      "1501/1501 [==============================] - 1330s 886ms/step - loss: 1.9786 - accuracy: 0.5210 - val_loss: 3.7009 - val_accuracy: 0.3278\n",
      "Epoch 10/10\n",
      "1501/1501 [==============================] - 2036s 1s/step - loss: 5.4060 - accuracy: 0.2729 - val_loss: 7.6717 - val_accuracy: 0.1381\n"
     ]
    }
   ],
   "source": [
    "# Training our model\n",
    "optimizer = RMSprop(learning_rate=0.01)\n",
    "model.compile(loss='categorical_crossentropy', optimizer=optimizer, metrics=['accuracy'])\n",
    "history = model.fit(X, y,\n",
    "                    validation_split=0.01, \n",
    "                    batch_size=128,\n",
    "                    epochs=10, \n",
    "                    shuffle=True).history"
   ]
  },
  {
   "cell_type": "markdown",
   "id": "extensive-compression",
   "metadata": {},
   "source": [
    "### saving our model"
   ]
  },
  {
   "cell_type": "code",
   "execution_count": 25,
   "id": "robust-compensation",
   "metadata": {},
   "outputs": [],
   "source": [
    "#saving our model\n",
    "model.save('nextword.h5')\n",
    "pickle.dump(history, open(\"history.p\", \"wb\"))"
   ]
  },
  {
   "cell_type": "markdown",
   "id": "adequate-sherman",
   "metadata": {},
   "source": [
    "### loading our model"
   ]
  },
  {
   "cell_type": "code",
   "execution_count": 3,
   "id": "requested-cambridge",
   "metadata": {},
   "outputs": [],
   "source": [
    "#loading our model\n",
    "model = load_model('nextword.h5')\n",
    "history = pickle.load(open(\"history.p\", \"rb\"))"
   ]
  },
  {
   "cell_type": "markdown",
   "id": "verbal-measurement",
   "metadata": {},
   "source": [
    "### Model Evaluation "
   ]
  },
  {
   "cell_type": "code",
   "execution_count": 30,
   "id": "difficult-knight",
   "metadata": {},
   "outputs": [
    {
     "name": "stdout",
     "output_type": "stream",
     "text": [
      "6061/6061 [==============================] - 72s 12ms/step - loss: 1.3228 - accuracy: 0.5964\n",
      "Test Loss 1.3227909803390503\n",
      "Test Accuracy 0.5963547229766846\n"
     ]
    }
   ],
   "source": [
    "#Model Evaluation\n",
    "loss_and_acc=model.evaluate(X,y)\n",
    "print(\"Test Loss\", loss_and_acc[0])\n",
    "print(\"Test Accuracy\", loss_and_acc[1])"
   ]
  },
  {
   "cell_type": "markdown",
   "id": "present-driving",
   "metadata": {},
   "source": [
    "### Plotting training and validation plots"
   ]
  },
  {
   "cell_type": "code",
   "execution_count": 31,
   "id": "unlikely-donna",
   "metadata": {},
   "outputs": [
    {
     "data": {
      "image/png": "[encoded data removed]",
      "text/plain": [
       "<Figure size 1440x432 with 2 Axes>"
      ]
     },
     "metadata": {
      "needs_background": "light"
     },
     "output_type": "display_data"
    }
   ],
   "source": [
    "acc = history['accuracy']\n",
    "val_acc = history['val_accuracy']\n",
    "loss = history['loss']\n",
    "val_loss = history['val_loss']\n",
    "epochs = range(len(acc))\n",
    "\n",
    "\n",
    "fig, ax = plt.subplots(nrows=1, ncols=2, figsize=(20, 6))\n",
    "ax[0].plot(epochs, acc, 'y', label='Training accuracy')\n",
    "ax[0].plot(epochs, val_acc, 'g', label='Validation accuracy')\n",
    "ax[0].legend(loc=0)\n",
    "ax[1].plot(epochs, loss, 'y', label='Training loss')\n",
    "ax[1].plot(epochs, val_loss, 'g', label='Validation loss')\n",
    "ax[1].legend(loc=0)\n",
    "\n",
    "plt.suptitle('Training and validation')\n",
    "plt.show()"
   ]
  },
  {
   "cell_type": "code",
   "execution_count": 10,
   "id": "biblical-palace",
   "metadata": {},
   "outputs": [
    {
     "data": {
      "text/plain": [
       "array([[[0., 0., 0., ..., 0., 0., 0.],\n",
       "        [0., 0., 0., ..., 0., 0., 0.],\n",
       "        [0., 0., 0., ..., 0., 0., 0.],\n",
       "        ...,\n",
       "        [0., 0., 0., ..., 0., 0., 0.],\n",
       "        [0., 0., 0., ..., 0., 0., 0.],\n",
       "        [0., 0., 0., ..., 0., 0., 0.]]])"
      ]
     },
     "execution_count": 10,
     "metadata": {},
     "output_type": "execute_result"
    }
   ],
   "source": [
    "def prepare_input(text):\n",
    "    x = np.zeros((1, seq_len, len(character)))\n",
    "    for t, char in enumerate(text):\n",
    "        x[0, t, char_indices[char]] = 1.\n",
    "        \n",
    "    return x\n",
    "\n",
    "prepare_input(\"This is an example of input of our model\".lower())"
   ]
  },
  {
   "cell_type": "markdown",
   "id": "brazilian-machinery",
   "metadata": {},
   "source": [
    "### functions to get next probable characters"
   ]
  },
  {
   "cell_type": "code",
   "execution_count": 11,
   "id": "loaded-personality",
   "metadata": {},
   "outputs": [],
   "source": [
    "#functions to get next probable characters\n",
    "def sample(preds, top_n=3):\n",
    "    preds = np.asarray(preds).astype('float64')\n",
    "    preds = np.log(preds)\n",
    "    exp_preds = np.exp(preds)\n",
    "    preds = exp_preds / np.sum(exp_preds)\n",
    "    \n",
    "    return heapq.nlargest(top_n, range(len(preds)), preds.take)"
   ]
  },
  {
   "cell_type": "code",
   "execution_count": 12,
   "id": "typical-magazine",
   "metadata": {},
   "outputs": [],
   "source": [
    "def predict_completion(text):\n",
    "    original_text = text\n",
    "    generated = text\n",
    "    completion = ''\n",
    "    while True:\n",
    "        x = prepare_input(text)\n",
    "        preds = model.predict(x, verbose=0)[0]\n",
    "        next_index = sample(preds, top_n=1)[0]\n",
    "        next_char = indices_char[next_index]\n",
    "        text = text[1:] + next_char\n",
    "        completion += next_char\n",
    "        \n",
    "        if len(original_text + completion) + 2 > len(original_text) and next_char == ' ':\n",
    "            return completion"
   ]
  },
  {
   "cell_type": "code",
   "execution_count": 13,
   "id": "funny-times",
   "metadata": {},
   "outputs": [],
   "source": [
    "def predict_completions(text, n=3):\n",
    "    x = prepare_input(text)\n",
    "    preds = model.predict(x, verbose=0)[0]\n",
    "    next_indices = sample(preds, n)\n",
    "    return [indices_char[idx] + predict_completion(text[1:] + indices_char[idx]) for idx in next_indices]"
   ]
  },
  {
   "cell_type": "markdown",
   "id": "determined-devices",
   "metadata": {},
   "source": [
    "### Prediction"
   ]
  },
  {
   "cell_type": "code",
   "execution_count": 65,
   "id": "willing-pasta",
   "metadata": {},
   "outputs": [],
   "source": [
    "#Prediction\n",
    "quotes = [   \n",
    "    \"It is not a lack of  love, but a  lack of friendship that makes unhappy marriages.\",\n",
    "    \"Recurrent neural network (RNN)is a type of artificial neural network which uses sequential data or time series data.\",\n",
    "    \"Machine learning is the science of getting computers to act without being explicitly programmed.\",\n",
    "    \"Deep learning is subset of machine learning,which is essentially a neural network with three or more layers.\",\n",
    "    \"The goal of AI is to  make a  compter like humans to solve complex problems.\",\n",
    "    \"Statistics are defined as numerical data, and is the field of math that deals with the collection, tabulation and interpretation of numerical data.\"\n",
    "    ]"
   ]
  },
  {
   "cell_type": "code",
   "execution_count": 66,
   "id": "neural-diamond",
   "metadata": {},
   "outputs": [
    {
     "name": "stdout",
     "output_type": "stream",
     "text": [
      "it is not a lack of  love, but a  lack o\n",
      "['f ', 'n ', 'r ', 'ut ', 'ver ']\n",
      "\n",
      "recurrent neural network (rnn)is a type \n",
      "['the ', 'boun-mark ', 'and ', 'of ', 'upon ']\n",
      "\n",
      "machine learning is the science of getti\n",
      "['ng ', 'on ', 'an ', 's ', 'ty ']\n",
      "\n",
      "deep learning is subset of machine learn\n",
      "[' a ', 'ed ', ', ', 'g ', 'ing ']\n",
      "\n",
      "the goal of ai is to  make a  compter li\n",
      "['ke ', 'tten ', 'ps ', 'ght ', 'doness ']\n",
      "\n",
      "statistics are defined as numerical data\n",
      "['le ', '. ', ', ', '’s ', 'ry ']\n",
      "\n"
     ]
    }
   ],
   "source": [
    "for q in quotes:\n",
    "    seq = q[:40].lower()\n",
    "    print(seq)\n",
    "    print(predict_completions(seq, 5))\n",
    "    print()"
   ]
  },
  {
   "cell_type": "markdown",
   "id": "after-torture",
   "metadata": {},
   "source": [
    "# THANK YOU !!"
   ]
  },
  {
   "cell_type": "code",
   "execution_count": null,
   "id": "adjusted-syndication",
   "metadata": {},
   "outputs": [],
   "source": []
  }
 ],
 "metadata": {
  "kernelspec": {
   "display_name": "Python 3",
   "language": "python",
   "name": "python3"
  },
  "language_info": {
   "codemirror_mode": {
    "name": "ipython",
    "version": 3
   },
   "file_extension": ".py",
   "mimetype": "text/x-python",
   "name": "python",
   "nbconvert_exporter": "python",
   "pygments_lexer": "ipython3",
   "version": "3.9.2"
  }
 },
 "nbformat": 4,
 "nbformat_minor": 5
}
